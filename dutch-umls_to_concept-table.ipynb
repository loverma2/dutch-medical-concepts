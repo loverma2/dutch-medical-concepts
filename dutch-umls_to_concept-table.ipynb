{
 "cells": [
  {
   "cell_type": "markdown",
   "id": "adapted-kennedy",
   "metadata": {},
   "source": [
    "# Dutch UMLS to concept table\n",
    "This notebook describes how to convert a UMLS concept table containing Dutch terms, to a formatted concept table to be used in a tool such as MedCAT. In the second part of this notebook, we add drug names from Dutch SNOMED, because these concepts are not well represented in the Dutch UMLS source vocabularies. A large scale automatic mapping from SNOMED Dutch to UMLS is not possible because there of many-to-mapping mapping.\n",
    "\n",
    "Requirements:\n",
    "- MySQL database containing Dutch UMLS terms\n",
    "\n",
    "For adding Dutch SNOMED drug names:\n",
    "- Dutch SNOMED concept table\n",
    "- MySQL database containing SNOMED-US, which is used for mapping SNOMED Dutch -> UMLS"
   ]
  },
  {
   "cell_type": "code",
   "execution_count": null,
   "id": "indirect-brown",
   "metadata": {},
   "outputs": [],
   "source": [
    "from sqlalchemy import create_engine\n",
    "import pandas as pd\n",
    "import numpy as np\n",
    "import json\n",
    "import re\n",
    "import os"
   ]
  },
  {
   "cell_type": "code",
   "execution_count": null,
   "id": "christian-wrong",
   "metadata": {},
   "outputs": [],
   "source": [
    "# Credentials to connect to UMLS MySQL database\n",
    "host = '127.0.0.1'\n",
    "username = 'root'\n",
    "password = 'test'\n",
    "port='3306'\n",
    "database = 'umls'\n",
    "\n",
    "# Create the connection\n",
    "connection_string = f'mysql://{username}:{password}@{host}:{port}/{database}'\n",
    "connection = create_engine(connection_string)"
   ]
  },
  {
   "cell_type": "code",
   "execution_count": null,
   "id": "verified-preliminary",
   "metadata": {},
   "outputs": [],
   "source": [
    "# Retrieve Dutch UMLS concepts\n",
    "query = \"\"\"\n",
    "SELECT *\n",
    "FROM umls.mrconso WHERE lat = 'DUT'\n",
    "\"\"\"\n",
    "df_dutch_umls = pd.read_sql_query(query, con=connection)\n",
    "df_dutch_umls.head()"
   ]
  },
  {
   "cell_type": "markdown",
   "id": "radical-killer",
   "metadata": {},
   "source": [
    "## Term type in source\n",
    "Some source-defined term types are not relevant for our use case. In the next part we will drop those. See https://www.nlm.nih.gov/research/umls/knowledge_sources/metathesaurus/release/abbreviations.html "
   ]
  },
  {
   "cell_type": "code",
   "execution_count": null,
   "id": "arabic-syndicate",
   "metadata": {},
   "outputs": [],
   "source": [
    "df_dutch_umls.TTY.value_counts()"
   ]
  },
  {
   "cell_type": "markdown",
   "id": "colonial-morning",
   "metadata": {},
   "source": [
    "| TTY  | Description | Count | Example | Reference|\n",
    "| - | - | - | - | - |\n",
    "| PT | Designated preferred name| 111766 | harthypertrofie, Pancoast-syndroom ||\n",
    "| LLT | Lower Level Term | 71603 | heupkombreuk, buikkramp| |\n",
    "| LN | LOINC official fully specified name | 52313 | fencyclidine:massa/massa:moment:haar:kwantitatief | |\n",
    "| MH | Main heading | 28657 | Dehydratie, Astma | |\n",
    "| SY | Designated synonym | 11863 | Spanningshoofdpijn, Ziekte van Hodgkin | |\n",
    "| OL | Non-current Lower Level Term| 9291 | acquired immunodeficiency syndrome, ankylose van gewricht, meerdere plaatsen | https://meddra.org/sites/default/files/page/documents_insert/meddra_-_terminologies_coding.pdf |\n",
    "| HT | Hierarchical term | 3295 | calciummetabolismestoornissen, oculaire hemorragische aandoeningen\t | |\n",
    "| LO | Obsolete official fully specified name | 1696| promyelocyten/100 leukocyten:getalsfractie:mom...\t| |\n",
    "| HG | High Level Group Term |  337| complicaties geassocieerd met medisch hulpmiddel, zuur-basestoornissen | |\n",
    "| SMQ| Standardised MedDRA Query |  225| Leveraandoeningen (SMQ) , Tumormarkers (SMQ) | |\n",
    "| CP | ICPC component process (in original form) |   38| Ander bloedonderzoek, Medicatie/recept/injectie | |\n",
    "| OS | System-organ class |   27| Bloed- en lymfestelselaandoeningen, Infecties en parasitaire aandoeningen | |\n",
    "| AB | Abbreviation in any source vocabulary |   27| Infec, Neopl, Ear, Endo | |"
   ]
  },
  {
   "cell_type": "code",
   "execution_count": null,
   "id": "stupid-moore",
   "metadata": {},
   "outputs": [],
   "source": [
    "# Select a set of TTYs that seem most relevant for entity linking\n",
    "tty_selection = ['PT', 'LLT', 'MH', 'SY']\n",
    "df_dutch_umls_subset = df_dutch_umls[df_dutch_umls.TTY.isin(tty_selection)].copy()\n",
    "\n",
    "# Keep only relevant columns\n",
    "df_dutch_umls_subset = df_dutch_umls_subset[['CUI', 'STR', 'TTY', 'SAB']]\n",
    "df_dutch_umls_subset.rename({'CUI': 'cui', 'STR': 'str', 'TTY': 'tty', 'SAB': 'sab'}, inplace=True, axis=1)\n",
    "\n",
    "# Most of the terms in UMLS have the Metathesaurus preferred name in English. \n",
    "# For a rough but effective fix to get a good preferred name for the Dutch terms, \n",
    "# change the terms that have the value \"Designated preferred name\" (PT) for the \n",
    "# Term Type in Source (TTY) to the Metathesaurus preferred name (PN). All others\n",
    "# can be saved as synonym.\n",
    "df_dutch_umls_subset.tty.replace({'PT': 'PN',\n",
    "                                  'LLT': 'SY',\n",
    "                                  'MH': 'SY'}, inplace=True)\n",
    "\n",
    "# Remove \"NAO\" (\"Niet Anders Omschreven\"), which is relevant for the source terminlogy but not for entity linking.\n",
    "# See https://meddra.org/sites/default/files/guidance/file/intguide_15_0_dutch.pdf\n",
    "df_dutch_umls_subset.str = df_dutch_umls_subset.str.replace({' NAO': '', ' \\(NAO\\)': '', ' nao': ''}, regex=True)\n",
    "\n",
    "# Sort values\n",
    "df_dutch_umls_subset.sort_values(by=['cui', 'tty', 'str', 'sab'], inplace=True)\n",
    "\n",
    "# Drop duplicates, only keep the first entry (which is a PN because we sorted)\n",
    "print(f'Records before dropping duplicates: {df_dutch_umls_subset.shape[0]}')\n",
    "df_dutch_umls_subset = df_dutch_umls_subset.drop_duplicates(subset=['cui', 'str'], keep='first').reset_index(drop=True)\n",
    "print(f'Records after dropping duplicates: {df_dutch_umls_subset.shape[0]}')\n",
    "\n",
    "# Because dropped duplicates, only the first value in SAB is saved. Because we lost the information of other colums, rename the values to UMLS-dutch\n",
    "df_dutch_umls_subset['sab'] = 'UMLS-dutch'\n",
    "df_dutch_umls_subset.head(20)"
   ]
  },
  {
   "cell_type": "markdown",
   "id": "amended-hayes",
   "metadata": {},
   "source": [
    "## Adding TUI (types)\n",
    "UMLS concepts have one or multiple types. These types are kept in a separate table, `MRSTY`. See https://semanticnetwork.nlm.nih.gov/download/SemGroups.txt for all types."
   ]
  },
  {
   "cell_type": "code",
   "execution_count": null,
   "id": "acquired-request",
   "metadata": {},
   "outputs": [],
   "source": [
    "# Load TUI table from MySQL\n",
    "query = \"\"\"\n",
    "SELECT cui, tui, sty FROM umls.mrsty\n",
    "\"\"\"\n",
    "df_tui = pd.read_sql_query(query, con=connection)\n",
    "\n",
    "# Add TUI column to previously created dataframe\n",
    "df_dutch_umls_subset_tui = df_dutch_umls_subset.merge(df_tui, how='left', on='cui')\n",
    "\n",
    "# View some concepts that have multiple TUIs\n",
    "df_dutch_umls_subset_tui[df_dutch_umls_subset_tui.duplicated(subset=['cui', 'str'], keep=False)].head(10)"
   ]
  },
  {
   "cell_type": "code",
   "execution_count": null,
   "id": "suspended-magazine",
   "metadata": {},
   "outputs": [],
   "source": [
    "print(f'Number of unique TUIs in Dutch UMLS subset: {len(df_dutch_umls_subset_tui.tui.unique())}')\n",
    "df_dutch_umls_subset_tui.sty.value_counts().head(10)"
   ]
  },
  {
   "cell_type": "markdown",
   "id": "standing-marsh",
   "metadata": {},
   "source": [
    "We could implement filtering of TUIs here. This depends on the domain and question of subsequent analysis. For SNOMED"
   ]
  },
  {
   "cell_type": "code",
   "execution_count": null,
   "id": "interpreted-national",
   "metadata": {},
   "outputs": [],
   "source": [
    "# Save UMLS \n",
    "df_dutch_umls_subset_tui.to_csv('04_ConceptDB/umls-dutch_v1.3-no-drugs.csv', index=False)"
   ]
  },
  {
   "cell_type": "markdown",
   "id": "russian-gnome",
   "metadata": {},
   "source": [
    "## Add SNOMED drug concepts\n",
    "As mentioned in the introduction of this notebook, in this section drug concepts will be added to the UMLS concept table."
   ]
  },
  {
   "cell_type": "markdown",
   "id": "bigger-panama",
   "metadata": {},
   "source": [
    "### Load SNOMED US data"
   ]
  },
  {
   "cell_type": "code",
   "execution_count": null,
   "id": "extensive-match",
   "metadata": {},
   "outputs": [],
   "source": [
    "# Credentials to connect to remote MySQL database that contains SNOMEDCT-US.\n",
    "# This is required for mapping SNOMED IDs from Dutch SNOMED drug concepts to UMLS IDs.\n",
    "host = ''\n",
    "username = 'root'\n",
    "password = ''\n",
    "port='3306'\n",
    "database = 'umls'"
   ]
  },
  {
   "cell_type": "code",
   "execution_count": null,
   "id": "front-start",
   "metadata": {},
   "outputs": [],
   "source": [
    "# Create the connection\n",
    "connection_string = f'mysql://{username}:{password}@{host}:{port}/{database}'\n",
    "connection = create_engine(connection_string)\n",
    "\n",
    "# By removing the obsolute terms, we will solve some one-to-many mapping issues\n",
    "query = \"\"\"\n",
    "SELECT distinct cui, scui FROM MRCONSO where sab = 'SNOMEDCT_US' and SUPPRESS !='O'\n",
    "\"\"\"\n",
    "df_snomed_us = pd.read_sql_query(query, con=connection)\n",
    "df_snomed_us.scui = df_snomed_us.scui.astype(int)\n",
    "print(f'SNOMED US terms with UMLS CUI: {df_snomed_us.shape[0]}')\n",
    "df_snomed_us.head()"
   ]
  },
  {
   "cell_type": "markdown",
   "id": "featured-programming",
   "metadata": {},
   "source": [
    "### Load SNOMED Dutch data"
   ]
  },
  {
   "cell_type": "code",
   "execution_count": null,
   "id": "unsigned-retention",
   "metadata": {},
   "outputs": [],
   "source": [
    "# Read Dutch SNOMED concept table to retrieve drug names\n",
    "df_snomed_dutch = pd.read_csv('04_ConceptDB/snomedct-dutch_v1.0.csv')\n",
    "df_snomed_dutch.cui = df_snomed_dutch.cui.astype(int)\n",
    "df_snomed_dutch_drugs = df_snomed_dutch[df_snomed_dutch.tui == 'substantie']\n",
    "print(f'Number of SNOMED names from type \"substantie\": {df_snomed_dutch_drugs.shape[0]}')"
   ]
  },
  {
   "cell_type": "code",
   "execution_count": null,
   "id": "annual-scholar",
   "metadata": {},
   "outputs": [],
   "source": [
    "df_snomed_dutch_drugs_cuis = df_snomed_dutch[df_snomed_dutch.tui == 'substantie'].cui.unique()\n",
    "print(f'Number of unique SNOMED CUIs from type \"substantie\" {len(df_snomed_dutch_drugs_cuis)}')"
   ]
  },
  {
   "cell_type": "markdown",
   "id": "professional-extra",
   "metadata": {},
   "source": [
    "This means that on average, every SNOMED concept from type \"substantie\" has 1.8 names."
   ]
  },
  {
   "cell_type": "markdown",
   "id": "spiritual-cleaners",
   "metadata": {},
   "source": [
    "### Combine SNOMED Dutch with SNOMED US to add UMLS CUIs"
   ]
  },
  {
   "cell_type": "code",
   "execution_count": null,
   "id": "ranging-cleaners",
   "metadata": {},
   "outputs": [],
   "source": [
    "# Select only SNOMED US concepts that are in SNOMED Dutch \"substance\" subset\n",
    "df_snomed_us_drugs = df_snomed_us[df_snomed_us.scui.isin(df_snomed_dutch_drugs_cuis)]\n",
    "print(f'Number of SNOMED US concepts that are also present in SNOMED Dutch \"substance\" subset: {df_snomed_us_drugs.shape[0]}')\n",
    "print(f'Number of unique SNOMED IDs in subset: {len(df_snomed_us_drugs.scui.unique())}')\n",
    "print(f'Number of unique UMLS IDs in subset: {len(df_snomed_us_drugs.cui.unique())}')"
   ]
  },
  {
   "cell_type": "markdown",
   "id": "instrumental-quest",
   "metadata": {},
   "source": [
    "This shows the many to many mapping. Some SNOMED IDs map to multiple UMLS IDs, while some UMLS IDs map to multiple SNOMED IDs. "
   ]
  },
  {
   "cell_type": "code",
   "execution_count": null,
   "id": "seeing-latest",
   "metadata": {},
   "outputs": [],
   "source": [
    "# Visualize which SNOMED IDs map to multiple UMLS IDs\n",
    "df_snomed_us_drugs_sorted = df_snomed_us_drugs.sort_values(['scui', 'cui'])\n",
    "print(f'Number of SNOMED IDs that map to multiple UMLS IDs: {sum(df_snomed_us_drugs_sorted.duplicated([\"scui\"]))}')\n",
    "df_snomed_us_drugs_sorted[df_snomed_us_drugs_sorted.duplicated(['scui'], keep=False)].head()"
   ]
  },
  {
   "cell_type": "markdown",
   "id": "compact-chocolate",
   "metadata": {},
   "source": [
    "This means there are some SNOMED IDs that map to multiple UMLS CUIs"
   ]
  },
  {
   "cell_type": "code",
   "execution_count": null,
   "id": "typical-encyclopedia",
   "metadata": {},
   "outputs": [],
   "source": [
    "# Visualize which SNOMED IDs map to multiple UMLS IDs including the Dutch name ('str')\n",
    "df_snomed_dutch_drugs[df_snomed_dutch_drugs.cui.isin(df_snomed_us_drugs_sorted[df_snomed_us_drugs_sorted.duplicated(['scui'], keep=False)].scui)].head()"
   ]
  },
  {
   "cell_type": "code",
   "execution_count": null,
   "id": "desirable-justice",
   "metadata": {},
   "outputs": [],
   "source": [
    "# For 105 CUIs that map to multiple SNOMED IDs, we will take a random SNOMED ID by only keeping the first entry\n",
    "df_snomed_us_drugs_unique = df_snomed_us_drugs_sorted.drop_duplicates(['scui'])\n",
    "print(f'Number of SNOMED IDs that map to UMLS IDs after dropping duplicates: {df_snomed_us_drugs_unique.shape[0]}')"
   ]
  },
  {
   "cell_type": "code",
   "execution_count": null,
   "id": "technical-degree",
   "metadata": {},
   "outputs": [],
   "source": [
    "# For a small amount of records, multiple SNOMED IDs map to the same CUI. \n",
    "# This is fine, it means that these UMLS CUIs will have more names from SNOMED.\n",
    "len(df_snomed_us_drugs_unique.scui.unique()) - len(df_snomed_us_drugs_unique.cui.unique())"
   ]
  },
  {
   "cell_type": "code",
   "execution_count": null,
   "id": "lasting-citation",
   "metadata": {},
   "outputs": [],
   "source": [
    "# Merge SNOMED-UMLS table with SNOMED-Drugs table\n",
    "df_umls_dutch_drugs = df_snomed_dutch_drugs.merge(df_snomed_us_drugs_unique, left_on='cui', right_on='scui', how='inner')\n",
    "df_umls_dutch_drugs = df_umls_dutch_drugs[['cui_y', 'str', 'tty', 'sab']]\n",
    "df_umls_dutch_drugs.rename({'cui_y': 'cui'}, inplace=True, axis=1)\n",
    "\n",
    "print(f'Dutch SNOMED drug concepts with UMLS ID: {len(df_umls_dutch_drugs.cui.unique())}')\n",
    "print(f'Dutch SNOMED drug names with UMLS ID: {df_umls_dutch_drugs.shape[0]}')\n",
    "\n",
    "# Show example\n",
    "df_umls_dutch_drugs[df_umls_dutch_drugs.cui=='C0025677']"
   ]
  },
  {
   "cell_type": "markdown",
   "id": "standing-scene",
   "metadata": {},
   "source": [
    "### Merge Dutch UMLS with Dutch UMLS drugs"
   ]
  },
  {
   "cell_type": "code",
   "execution_count": null,
   "id": "usual-receptor",
   "metadata": {},
   "outputs": [],
   "source": [
    "print(f'Dutch UMLS concepts: {df_dutch_umls_subset_tui.shape[0]}')\n",
    "print(f'Dutch UMLS concepts with SNOMED drug name: {df_umls_dutch_drugs.shape[0]}')\n",
    "df_umls_dutch_total = pd.concat([df_dutch_umls_subset, df_umls_dutch_drugs])\n",
    "print(f'Concatenated: {df_umls_dutch_total.shape[0]}')"
   ]
  },
  {
   "cell_type": "code",
   "execution_count": null,
   "id": "noble-output",
   "metadata": {},
   "outputs": [],
   "source": [
    "# Remove duplicate names, because a few drug names were already in our initial UMLS set\n",
    "# We only keep the first, because we assume these concept already havea primary name (PN) in the initial set\n",
    "df_umls_dutch_total.drop_duplicates(subset=['cui', 'str'], keep='first', inplace=True)\n",
    "print(f'After removing duplicate names: {df_umls_dutch_total.shape[0]}')"
   ]
  },
  {
   "cell_type": "code",
   "execution_count": null,
   "id": "blocked-mercy",
   "metadata": {},
   "outputs": [],
   "source": [
    "df_umls_dutch_total"
   ]
  },
  {
   "cell_type": "markdown",
   "id": "chicken-knife",
   "metadata": {},
   "source": [
    "### Add TUIs to merged table"
   ]
  },
  {
   "cell_type": "code",
   "execution_count": null,
   "id": "flying-polish",
   "metadata": {},
   "outputs": [],
   "source": [
    "# Add TUIs\n",
    "df_umls_dutch_total_with_tui = df_umls_dutch_total.merge(df_tui, how='left', on='cui')\n",
    "print(f'Dutch UMLS names with SNOMED drug names with TUI: {df_umls_dutch_total_with_tui.shape[0]}')"
   ]
  },
  {
   "cell_type": "code",
   "execution_count": null,
   "id": "noble-hollow",
   "metadata": {},
   "outputs": [],
   "source": [
    "df_umls_dutch_total_with_tui.to_csv('04_ConceptDB/umls-dutch_v1.3-complete.csv', index=False)"
   ]
  }
 ],
 "metadata": {
  "kernelspec": {
   "display_name": "Python 3",
   "language": "python",
   "name": "python3"
  },
  "language_info": {
   "codemirror_mode": {
    "name": "ipython",
    "version": 3
   },
   "file_extension": ".py",
   "mimetype": "text/x-python",
   "name": "python",
   "nbconvert_exporter": "python",
   "pygments_lexer": "ipython3",
   "version": "3.8.5"
  }
 },
 "nbformat": 4,
 "nbformat_minor": 5
}
