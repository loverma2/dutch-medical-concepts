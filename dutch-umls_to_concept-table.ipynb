{
 "cells": [
  {
   "cell_type": "markdown",
   "id": "a3280349",
   "metadata": {},
   "source": [
    "# Dutch UMLS to concept table\n",
    "This notebook describes how to convert a UMLS concept table containing Dutch terms, to a formatted concept table to be used in a tool such as MedCAT. In the second part of this notebook, we add drug names from Dutch SNOMED, because these concepts are not well represented in the Dutch UMLS source vocabularies. A large scale automatic mapping from SNOMED Dutch to UMLS is not possible because of many-to-many mapping, explained in this notebook.\n",
    "\n",
    "Requirements:\n",
    "- MySQL database containing Dutch UMLS terms\n",
    "\n",
    "For adding Dutch SNOMED drug names:\n",
    "- Dutch SNOMED concept tablel, created in `dutch-snomed_to_concept-table.ipynb`\n",
    "- MySQL database containing SNOMED-US, which is used for mapping SNOMED Dutch -> UMLS"
   ]
  },
  {
   "cell_type": "code",
   "execution_count": null,
   "id": "a2417efe",
   "metadata": {},
   "outputs": [],
   "source": [
    "from sqlalchemy import create_engine\n",
    "from dotenv import load_dotenv\n",
    "import pandas as pd\n",
    "import numpy as np\n",
    "import json\n",
    "import re\n",
    "import os"
   ]
  },
  {
   "cell_type": "code",
   "execution_count": null,
   "id": "6eb83ea7",
   "metadata": {},
   "outputs": [],
   "source": [
    "# Credentials to connect to UMLS MySQL database\n",
    "load_dotenv()\n",
    "user = os.getenv('MYSQL_USER')\n",
    "password = os.getenv('MYSQL_PASSWORD')\n",
    "host = os.getenv('MYSQL_HOST')\n",
    "port = os.getenv('MYSQL_PORT')\n",
    "database = os.getenv('MYSQL_DATABASE')\n",
    "\n",
    "# Create the connection\n",
    "connection_string = f'mysql://{user}:{password}@{host}:{port}/{database}'\n",
    "connection = create_engine(connection_string)"
   ]
  },
  {
   "cell_type": "code",
   "execution_count": null,
   "id": "d9aa3109",
   "metadata": {},
   "outputs": [],
   "source": [
    "# Retrieve Dutch UMLS concepts\n",
    "query = \"\"\"\n",
    "SELECT cui, str, tty, sab, code FROM MRCONSO WHERE LAT = 'DUT'\n",
    "\"\"\"\n",
    "df_dutch_umls = pd.read_sql_query(query, con=connection)\n",
    "df_dutch_umls.head()"
   ]
  },
  {
   "cell_type": "markdown",
   "id": "7c0cc2a6",
   "metadata": {},
   "source": [
    "## Term type in source\n",
    "Some source-defined term types are not relevant for our use case. In the next part we will drop those. See https://www.nlm.nih.gov/research/umls/knowledge_sources/metathesaurus/release/abbreviations.html "
   ]
  },
  {
   "cell_type": "code",
   "execution_count": null,
   "id": "35d9e0fb",
   "metadata": {},
   "outputs": [],
   "source": [
    "df_dutch_umls.tty.value_counts()"
   ]
  },
  {
   "cell_type": "markdown",
   "id": "d5528a3b",
   "metadata": {},
   "source": [
    "| TTY  | Description | Count | Example | Reference|\n",
    "| - | - | - | - | - |\n",
    "| PT | Designated preferred name| 111766 | harthypertrofie, Pancoast-syndroom ||\n",
    "| LLT | Lower Level Term | 71603 | heupkombreuk, buikkramp| |\n",
    "| LN | LOINC official fully specified name | 52313 | fencyclidine:massa/massa:moment:haar:kwantitatief | |\n",
    "| MH | Main heading | 28657 | Dehydratie, Astma | |\n",
    "| SY | Designated synonym | 11863 | Spanningshoofdpijn, Ziekte van Hodgkin | |\n",
    "| OL | Non-current Lower Level Term| 9291 | acquired immunodeficiency syndrome, ankylose van gewricht, meerdere plaatsen | https://meddra.org/sites/default/files/page/documents_insert/meddra_-_terminologies_coding.pdf |\n",
    "| HT | Hierarchical term | 3295 | calciummetabolismestoornissen, oculaire hemorragische aandoeningen\t | |\n",
    "| LO | Obsolete official fully specified name | 1696| promyelocyten/100 leukocyten:getalsfractie:mom...\t| |\n",
    "| HG | High Level Group Term |  337| complicaties geassocieerd met medisch hulpmiddel, zuur-basestoornissen | |\n",
    "| SMQ| Standardised MedDRA Query |  225| Leveraandoeningen (SMQ) , Tumormarkers (SMQ) | |\n",
    "| CP | ICPC component process (in original form) |   38| Ander bloedonderzoek, Medicatie/recept/injectie | |\n",
    "| OS | System-organ class |   27| Bloed- en lymfestelselaandoeningen, Infecties en parasitaire aandoeningen | |\n",
    "| AB | Abbreviation in any source vocabulary |   27| Infec, Neopl, Ear, Endo | |"
   ]
  },
  {
   "cell_type": "code",
   "execution_count": null,
   "id": "450daa40",
   "metadata": {},
   "outputs": [],
   "source": [
    "# Select a set of TTYs that seem most relevant for entity linking\n",
    "tty_selection = ['PT', 'LLT', 'MH', 'SY']\n",
    "df_dutch_umls_subset = df_dutch_umls[df_dutch_umls.tty.isin(tty_selection)].copy()\n",
    "\n",
    "# Keep only relevant columns\n",
    "df_dutch_umls_subset = df_dutch_umls_subset[['cui', 'str', 'tty', 'sab']]\n",
    "\n",
    "# Most of the terms in UMLS have the Metathesaurus preferred name in English. \n",
    "# For a rough but effective fix to get a good preferred name for the Dutch terms, \n",
    "# change the terms that have the value \"Designated preferred name\" (PT) for the \n",
    "# Term Type in Source (TTY) to the Metathesaurus preferred name (PN). All others\n",
    "# can be saved as synonym.\n",
    "df_dutch_umls_subset.tty.replace({'PT': 'PN',\n",
    "                                  'LLT': 'SY',\n",
    "                                  'MH': 'SY'}, inplace=True)\n",
    "\n",
    "# Remove \"NAO\" (\"Niet Anders Omschreven\"), which is relevant for the source terminlogy but not for entity linking.\n",
    "# See https://meddra.org/sites/default/files/guidance/file/intguide_15_0_dutch.pdf\n",
    "df_dutch_umls_subset.str = df_dutch_umls_subset.str.replace({' NAO': '', ' \\(NAO\\)': '', ' nao': ''}, regex=True)\n",
    "\n",
    "# Sort values\n",
    "df_dutch_umls_subset.sort_values(by=['cui', 'tty', 'str', 'sab'], inplace=True)\n",
    "\n",
    "# Drop duplicates, only keep the first entry (which is a PN because we sorted)\n",
    "print(f'Records before dropping duplicates: {df_dutch_umls_subset.shape[0]}')\n",
    "df_dutch_umls_subset = df_dutch_umls_subset.drop_duplicates(subset=['cui', 'str'], keep='first').reset_index(drop=True)\n",
    "print(f'Records after dropping duplicates: {df_dutch_umls_subset.shape[0]}')\n",
    "\n",
    "# Because dropped duplicates, only the first value in SAB is saved. Because we lost the information of other colums, rename the values to UMLS-dutch\n",
    "df_dutch_umls_subset['sab'] = 'UMLS-dutch'\n",
    "df_dutch_umls_subset.head(20)"
   ]
  },
  {
   "cell_type": "markdown",
   "id": "e3b91de2",
   "metadata": {},
   "source": [
    "# Add Dutch names from SNOMED\n",
    "UMLS does not contain the Dutch SNOMED names, but it does contain the English (US) SNOMED terms. So through the English SNOMED concepts, we can map the Dutch SNOMED names to UMLS.\n",
    "\n",
    "Dutch SNOMED names with SNOMED ID **->** Get English SNOMED ID to UMLS ID mapping **->** Map Dutch SNOMED names with SNOMED ID to UMLS ID"
   ]
  },
  {
   "cell_type": "markdown",
   "id": "ef9f516f",
   "metadata": {},
   "source": [
    "### Load SNOMED US"
   ]
  },
  {
   "cell_type": "code",
   "execution_count": null,
   "id": "de006d8d",
   "metadata": {},
   "outputs": [],
   "source": [
    "query = \"SELECT distinct cui, scui FROM MRCONSO where sab = 'SNOMEDCT_US'\"\n",
    "df_snomed_us = pd.read_sql_query(query, con=connection)\n",
    "df_snomed_us.scui = df_snomed_us.scui.astype(str)\n",
    "print(f'SNOMED US terms with UMLS CUI: {df_snomed_us.shape[0]}')\n",
    "df_snomed_us.head()"
   ]
  },
  {
   "cell_type": "markdown",
   "id": "c8c3b228",
   "metadata": {},
   "source": [
    "### Load SNOMED NL\n",
    "We're using a cleaned and filtered list of Dutch SNOMED names, see other notebook in this repository how this is created."
   ]
  },
  {
   "cell_type": "code",
   "execution_count": null,
   "id": "d63b8ab1",
   "metadata": {},
   "outputs": [],
   "source": [
    "df_snomed_dutch = pd.read_csv('04_ConceptDB/snomedct-dutch_v1.1.csv', dtype=str)\n",
    "df_snomed_dutch.head()"
   ]
  },
  {
   "cell_type": "code",
   "execution_count": null,
   "id": "11888337",
   "metadata": {},
   "outputs": [],
   "source": [
    "df_snomed_dutch.shape"
   ]
  },
  {
   "cell_type": "code",
   "execution_count": null,
   "id": "eacc18aa",
   "metadata": {},
   "outputs": [],
   "source": [
    "df_dutch_umls_subset.head()"
   ]
  },
  {
   "cell_type": "markdown",
   "id": "dac7b2f2",
   "metadata": {},
   "source": [
    "## Find ambiguous mapping"
   ]
  },
  {
   "cell_type": "markdown",
   "id": "08cbed1e",
   "metadata": {},
   "source": [
    "First find which SNOMED concepts can map to UMLS concepts. SNOMED concepts could map to multiple UMLS concepts."
   ]
  },
  {
   "cell_type": "code",
   "execution_count": null,
   "id": "6e15a823",
   "metadata": {},
   "outputs": [],
   "source": [
    "# Create SNOMED - UMLS mapping\n",
    "snomed_to_umls_mapping = df_snomed_us.groupby('scui')['cui'].apply(list).to_dict()\n",
    "print(f'Number of SNOMED US IDs that map to at least 1 CUI: {len(snomed_to_umls_mapping)}')"
   ]
  },
  {
   "cell_type": "code",
   "execution_count": null,
   "id": "46fbb9da",
   "metadata": {},
   "outputs": [],
   "source": [
    "# Check ambiguity of UMLS-SNOMED mapping\n",
    "unambiguous_mapping_ids = set()\n",
    "ambiguous_mapping_ids = set()\n",
    "for snomed_id in snomed_to_umls_mapping:\n",
    "    if len(snomed_to_umls_mapping[snomed_id]) == 1:\n",
    "        unambiguous_mapping_ids.add(snomed_id)\n",
    "    else:\n",
    "        ambiguous_mapping_ids.add(snomed_id)\n",
    "print(f'Number of SNOMED IDs that map to only 1 CUI: {len(unambiguous_mapping_ids)}')\n",
    "print(f'Number of SNOMED IDs that map to multiple CUIs: {len(ambiguous_mapping_ids)}')"
   ]
  },
  {
   "cell_type": "markdown",
   "id": "726a3801",
   "metadata": {},
   "source": [
    "So 2073 SNOMED concepts map to multiple UMLS concepts. If we would add the Dutch names from SNOMED, we would have to add them to both UMLS concepts. This will introduce ambiguity, which will lead to problems in our downstream named entity linking methods. Therefor we'll all these ambiguous mapping SNOMED concepts."
   ]
  },
  {
   "cell_type": "markdown",
   "id": "e00714f1",
   "metadata": {},
   "source": [
    "## Example of ambiguous mapping"
   ]
  },
  {
   "cell_type": "code",
   "execution_count": null,
   "id": "83d96d12",
   "metadata": {},
   "outputs": [],
   "source": [
    "# Find example\n",
    "ambiguous_mapping_ids = [int(code) for code in ambiguous_mapping_ids]\n",
    "ambiguous_mapping_ids.sort()\n",
    "ambiguous_mapping_ids = [str(code) for code in ambiguous_mapping_ids]\n",
    "ambiguous_mapping_ids[0:5]"
   ]
  },
  {
   "cell_type": "code",
   "execution_count": null,
   "id": "159a6b11",
   "metadata": {},
   "outputs": [],
   "source": [
    "query = \"SELECT distinct cui, scui, str FROM MRCONSO where sab = 'SNOMEDCT_US' and CODE = '216004'\"\n",
    "df_snomed_us_example = pd.read_sql_query(query, con=connection)\n",
    "df_snomed_us.head()"
   ]
  },
  {
   "cell_type": "code",
   "execution_count": null,
   "id": "ab51d03d",
   "metadata": {},
   "outputs": [],
   "source": [
    "df_snomed_dutch[df_snomed_dutch.cui == '216004']"
   ]
  },
  {
   "cell_type": "code",
   "execution_count": null,
   "id": "2511640b",
   "metadata": {},
   "outputs": [],
   "source": [
    "df_dutch_umls_subset[df_dutch_umls_subset.cui.isin(['C0151836', 'C1704268'])]"
   ]
  },
  {
   "cell_type": "markdown",
   "id": "e1ccfcb7",
   "metadata": {},
   "source": [
    "So SNOMED US has four names for 216004. Three of these names map to C1704268 and one maps to C0151836. In SNOMED NL, there is only one name for this concept. We could map this name to both concepts, to a specific one, or ignore it.\n",
    "\n",
    "- Mapping to both will cause ambiguity. It might have no effect on entity linking, as it could be solved during MedCAT's unsupervised training, depending on the synonyms and their presence in the training corpus. In this example there is only 1 Dutch SNOMED term, but when there are multiple Dutch SNOMED terms, adding all to both terms, will lead to many duplicates.\n",
    "- Mapping to a single one is the best option for a single example, but this is time consuming, not within the scope and responsibility of this project and can be quite difficult. There are about 2000 of these terms.\n",
    "- Ignoring the name is the easiest option and will not lead to potential difficult downstream interpretation. The drawback is that the name, which in this example is unique to SNOMED NL, will not be in the final Dutch UMLS table."
   ]
  },
  {
   "cell_type": "markdown",
   "id": "c1d059ec",
   "metadata": {},
   "source": [
    "## Merge SNOMED Dutch with UMLS Dutch"
   ]
  },
  {
   "cell_type": "code",
   "execution_count": null,
   "id": "5d2946f4",
   "metadata": {},
   "outputs": [],
   "source": [
    "# Create dictionary of UMLS concepts that are in our existing Dutch name table\n",
    "dutch_umls_ids=df_dutch_umls_subset.groupby('cui')['str'].apply(list).to_dict()\n",
    "\n",
    "# Create a set with all Dutch UMLS names in lowercase\n",
    "dutch_umls_names_lowercase = set()\n",
    "for cui in dutch_umls_ids:\n",
    "    for value in dutch_umls_ids[cui]:\n",
    "        dutch_umls_names_lowercase.add(value.lower())\n",
    "        \n",
    "# Also create a column with all Dutch SNOMED names\n",
    "df_snomed_dutch['lowercase_str'] = df_snomed_dutch.str.str.lower()"
   ]
  },
  {
   "cell_type": "code",
   "execution_count": null,
   "id": "21df168f",
   "metadata": {},
   "outputs": [],
   "source": [
    "def map_dutch_snomed_to_umls(row):\n",
    "    snomed_id = row['cui']\n",
    "    if snomed_id in unambiguous_mapping_ids:\n",
    "        cui = snomed_to_umls_mapping[snomed_id][0]\n",
    "        \n",
    "        # Check whether SNOMED name is a name in UMLS, under any CUI.\n",
    "        # This is to prevent:\n",
    "        # - Adding names for a concept that we already have.\n",
    "        # - Introducing concepts that are already in our DB but map to a different CUI\n",
    "        #   because of one-to-many SNOMED to UMLS mapping.\n",
    "        if row['lowercase_str'] not in dutch_umls_names_lowercase:\n",
    "            \n",
    "            # Check if the term is new, or already exists and therefor always is a synonym.\n",
    "            if cui in dutch_umls_ids:\n",
    "                snomed_names_to_add.append([cui, row['str'], 'SY'])\n",
    "            else:\n",
    "                snomed_names_to_add.append([cui, row['str'], row['tty']])\n",
    "        else:\n",
    "            # For debugging purposes, track snomed names that are already in UMLS\n",
    "            snomed_names_to_skip.append([cui, row['str'], row['tty']])\n",
    "            \n",
    "            # In the future, we might want to add SNOMED-NL to the SAB of this concept.\n",
    "            # We'll need to be cautious for the case of a different concept that has the same name.\n",
    "            \n",
    "snomed_names_to_add = list()\n",
    "snomed_names_to_skip = list()\n",
    "\n",
    "# Apply function\n",
    "df_snomed_dutch.apply(map_dutch_snomed_to_umls, axis = 1)\n",
    "\n",
    "print(f'Number of Dutch names in existing UMLS table: {df_dutch_umls_subset.shape[0]}')\n",
    "print(f'Number of Dutch SNOMED names to add: {len(snomed_names_to_add)}')\n",
    "print(f'Number of Dutch SNOMED names to skip: {len(snomed_names_to_skip)}')"
   ]
  },
  {
   "cell_type": "code",
   "execution_count": null,
   "id": "3ccd5f31",
   "metadata": {},
   "outputs": [],
   "source": [
    "# Format SNOMED names in pandas dataframe\n",
    "snomed_names_with_cui = pd.DataFrame(snomed_names_to_add, columns = ['cui', 'str', 'tty'])\n",
    "snomed_names_with_cui['sab'] = 'SNOMEDCT-NL'\n",
    "snomed_names_with_cui.head()"
   ]
  },
  {
   "cell_type": "code",
   "execution_count": null,
   "id": "b07f0142",
   "metadata": {},
   "outputs": [],
   "source": [
    "# Check which snomed names are skipped because they are already in UMLS\n",
    "snomed_names_to_skip_df = pd.DataFrame(snomed_names_to_skip, columns = ['cui', 'str', 'tty'])\n",
    "snomed_names_to_skip_df.head()"
   ]
  },
  {
   "cell_type": "code",
   "execution_count": null,
   "id": "d7917c55",
   "metadata": {},
   "outputs": [],
   "source": [
    "umls_snomed_merged = pd.concat([df_dutch_umls_subset, snomed_names_with_cui])\n",
    "print(f'Number of Dutch names in UMLS + SNOMED table: {umls_snomed_merged.shape[0]}')"
   ]
  },
  {
   "cell_type": "code",
   "execution_count": null,
   "id": "89bfac6d",
   "metadata": {},
   "outputs": [],
   "source": [
    "umls_snomed_merged.head()"
   ]
  },
  {
   "cell_type": "code",
   "execution_count": null,
   "id": "ec2c6b13",
   "metadata": {},
   "outputs": [],
   "source": [
    "# Sort on CUI and TTY\n",
    "umls_snomed_merged.sort_values(by=['cui', 'tty', 'sab', 'str'], inplace=True)\n",
    "umls_snomed_merged.reset_index(drop=True,inplace=True)"
   ]
  },
  {
   "cell_type": "markdown",
   "id": "0069c714",
   "metadata": {},
   "source": [
    "## Remove problematic names\n"
   ]
  },
  {
   "cell_type": "code",
   "execution_count": null,
   "id": "251b2dec",
   "metadata": {},
   "outputs": [],
   "source": [
    "names_to_remove = ['Bij', # C0004923\n",
    "                   'Bijen', # C0004923\n",
    "                   'Haar', # C0018494\n",
    "                   'bleek', # C0678215\n",
    "                   'Weer', # C0043085\n",
    "                   'Na+'] # C0337443\n",
    "umls_snomed_merged[umls_snomed_merged.str.isin(names_to_remove)]"
   ]
  },
  {
   "cell_type": "code",
   "execution_count": null,
   "id": "b59b667a",
   "metadata": {},
   "outputs": [],
   "source": [
    "# Remove rows\n",
    "rows_to_remove = umls_snomed_merged[umls_snomed_merged.str.isin(names_to_remove)].index\n",
    "print(f'Number of rows before removing rows: {umls_snomed_merged.shape[0]}')\n",
    "umls_snomed_filtered = umls_snomed_merged.drop(umls_snomed_merged.index[rows_to_remove])\n",
    "print(f'Number of rows after removing rows: {umls_snomed_filtered.shape[0]}')"
   ]
  },
  {
   "cell_type": "markdown",
   "id": "a7537355",
   "metadata": {},
   "source": [
    "## Add custom CUIs\n",
    "Sometimes names or concept are not captured in any of the Dutch terminologies. By looking up the English name for these concepts, we can add custom Dutch names using the real UMLS identifier."
   ]
  },
  {
   "cell_type": "code",
   "execution_count": null,
   "id": "71a78962",
   "metadata": {},
   "outputs": [],
   "source": [
    "umls_snomed_filtered.head()"
   ]
  },
  {
   "cell_type": "code",
   "execution_count": null,
   "id": "2c0e3764",
   "metadata": {},
   "outputs": [],
   "source": [
    "custom_concepts = pd.read_csv(\"custom_concepts.csv\")\n",
    "custom_concepts"
   ]
  },
  {
   "cell_type": "code",
   "execution_count": null,
   "id": "7bdaec7c",
   "metadata": {},
   "outputs": [],
   "source": [
    "print(f'Number of rows before adding rows: {umls_snomed_filtered.shape[0]}')\n",
    "umls_snomed_custom = pd.concat([umls_snomed_filtered, custom_concepts])\n",
    "print(f'Number of rows after adding rows: {umls_snomed_custom.shape[0]}')"
   ]
  },
  {
   "cell_type": "markdown",
   "id": "11518f89",
   "metadata": {},
   "source": [
    "## Add TUI (types)\n",
    "UMLS concepts have one or multiple types. These types are kept in a separate table, `MRSTY`. See https://semanticnetwork.nlm.nih.gov/download/SemGroups.txt for all types."
   ]
  },
  {
   "cell_type": "code",
   "execution_count": null,
   "id": "b6199f34",
   "metadata": {},
   "outputs": [],
   "source": [
    "# Load TUI table from MySQL\n",
    "query = \"\"\"\n",
    "SELECT cui, tui, sty FROM MRSTY\n",
    "\"\"\"\n",
    "df_tui = pd.read_sql_query(query, con=connection)"
   ]
  },
  {
   "cell_type": "code",
   "execution_count": null,
   "id": "e39d2551",
   "metadata": {},
   "outputs": [],
   "source": [
    "# Add TUI column to previously created dataframe\n",
    "umls_snomed_tui = umls_snomed_custom.merge(df_tui, how='left', on='cui')\n",
    "\n",
    "# View some concepts that have multiple TUIs\n",
    "umls_snomed_tui[umls_snomed_tui.duplicated(subset=['cui', 'str'], keep=False)].head(10)"
   ]
  },
  {
   "cell_type": "code",
   "execution_count": null,
   "id": "8dc7d2e7",
   "metadata": {},
   "outputs": [],
   "source": [
    "print(f'Number of unique TUIs in Dutch UMLS subset: {len(umls_snomed_tui.tui.unique())}')"
   ]
  },
  {
   "cell_type": "code",
   "execution_count": null,
   "id": "7642aca5",
   "metadata": {},
   "outputs": [],
   "source": [
    "# Create dataframe with counts per TUI name\n",
    "type_counts = umls_snomed_tui.sty.value_counts().to_frame()\n",
    "type_counts_tui = umls_snomed_tui.sty.value_counts().to_frame()\n",
    "type_counts.reset_index(inplace=True)\n",
    "\n",
    "# Add TUI code\n",
    "type_counts_tui = umls_snomed_tui.tui.value_counts().to_frame()\n",
    "tuis = type_counts_tui.index\n",
    "type_counts['tui'] = tuis\n",
    "\n",
    "# Format nicely\n",
    "type_counts.columns = ['sty', 'count', 'tui']\n",
    "type_counts = type_counts[['tui', 'sty', 'count']]\n",
    "type_counts"
   ]
  },
  {
   "cell_type": "markdown",
   "id": "51a3b1ed",
   "metadata": {},
   "source": [
    "## TUI Filtering\n",
    "We could implement filtering of TUIs here. This depends on the domain and question of subsequent analysis. For SNOMED"
   ]
  },
  {
   "cell_type": "code",
   "execution_count": null,
   "id": "d0500125",
   "metadata": {},
   "outputs": [],
   "source": [
    "tuis_to_remove = [\n",
    "    \n",
    "    # Concepts & Ideas\n",
    "    'T078', # Idea or Concept\n",
    "    'T089', # Regulation or Law\n",
    "\n",
    "    # Living beings\n",
    "    'T011', # Amphibian\n",
    "    'T008', # Animal\n",
    "    'T012', # Bird\n",
    "    'T013', # Fish\n",
    "    'T015', # Mammal\n",
    "    'T001', # Organism\n",
    "    'T001', # Plant\n",
    "    'T014', # Reptile\n",
    "    'T010', # Vertebrate\n",
    "    \n",
    "    # Objects\n",
    "    'T168', # Food\n",
    "    \n",
    "    # Organizations\n",
    "    'T093', # Healthcare Related Organization\n",
    "    \n",
    "    # Geographic areas\n",
    "    'T083', #Geographic Aera\n",
    "]\n",
    "                  \n",
    "                 ]\n",
    "umls_snomed_tui[umls_snomed_tui.tui.isin(tuis_to_remove)].head()"
   ]
  },
  {
   "cell_type": "code",
   "execution_count": null,
   "id": "af4a384b",
   "metadata": {},
   "outputs": [],
   "source": [
    "# Remove rows based on TUI\n",
    "rows_to_remove = umls_snomed_tui[umls_snomed_tui.tui.isin(tuis_to_remove)].index\n",
    "print(f'Number of rows before removing rows: {umls_snomed_tui.shape[0]}')\n",
    "umls_snomed_tui_filtered = umls_snomed_tui.drop(umls_snomed_tui.index[rows_to_remove])\n",
    "print(f'Number of rows after removing rows: {umls_snomed_tui_filtered.shape[0]}')"
   ]
  },
  {
   "cell_type": "markdown",
   "id": "fd5b3a29",
   "metadata": {},
   "source": [
    "## Column Names\n",
    "In MedCAT v1.0 the column name specification has changed and is defined as in the [README.md in examples](https://github.com/CogStack/MedCAT/tree/master/examples)."
   ]
  },
  {
   "cell_type": "code",
   "execution_count": null,
   "id": "4b71db0f",
   "metadata": {},
   "outputs": [],
   "source": [
    "umls_snomed_tui_filtered.rename(columns={'str': 'name', 'tty': 'name_status', 'sab': 'ontologies', 'tui': 'type_ids'}, inplace=True)\n",
    "umls_snomed_tui_filtered.drop(['sty'], axis = 1, inplace=True)\n",
    "umls_snomed_tui_filtered.head()"
   ]
  },
  {
   "cell_type": "markdown",
   "id": "ba44ec28",
   "metadata": {},
   "source": [
    "## Saving"
   ]
  },
  {
   "cell_type": "code",
   "execution_count": null,
   "id": "869193cd",
   "metadata": {},
   "outputs": [],
   "source": [
    "# Save final concept table\n",
    "umls_snomed_tui_filtered.to_csv('04_ConceptDB/umls-dutch_v1.8.csv', index=False)\n",
    "\n",
    "# Save number of concepts per TUI\n",
    "type_counts.to_csv('04_ConceptDB/tuis-umls-dutch_v1.8.csv', index = False, sep='\\t')"
   ]
  },
  {
   "cell_type": "markdown",
   "id": "9ea8acad",
   "metadata": {},
   "source": [
    "## Expand Concept Database to include drug names\n",
    "Only run this part below if you want to further expand the concept database with drug names, adds around 270k lines."
   ]
  },
  {
   "cell_type": "code",
   "execution_count": null,
   "id": "c6e35b96",
   "metadata": {},
   "outputs": [],
   "source": [
    "#In case you want to begin from here, load existing concept table:\n",
    "\n",
    "#umls_snomed_tui_filtered = pd.read_csv(\"04_ConceptDB/umls-dutch_v1.8.csv\", dtype=str)"
   ]
  },
  {
   "cell_type": "code",
   "execution_count": null,
   "id": "3aedf88a",
   "metadata": {},
   "outputs": [],
   "source": [
    "# Retrieve Dutch UMLS concepts\n",
    "query = \"\"\"\n",
    "SELECT distinct MRCONSO.cui, str as name, tty as name_status, sab as ontologies, tui as type_ids\n",
    "FROM MRCONSO\n",
    "LEFT JOIN MRSTY ON MRSTY.cui = MRCONSO.cui\n",
    "WHERE SAB in ('ATC','DRUGBANK','RXNORM')\n",
    "\"\"\"\n",
    "df_drugs = pd.read_sql_query(query, con=connection)\n",
    "df_drugs.head()"
   ]
  },
  {
   "cell_type": "code",
   "execution_count": null,
   "id": "2306dcef",
   "metadata": {},
   "outputs": [],
   "source": [
    "#Swap columns name_status and ontologies to match earlier generated dataframe\n",
    "df_drugs=df_drugs.reindex(columns=['cui','name','name_status','ontologies','type_ids'])\n",
    "df_drugs.head()"
   ]
  },
  {
   "cell_type": "code",
   "execution_count": null,
   "id": "74b1af68",
   "metadata": {},
   "outputs": [],
   "source": [
    "#Merge drugs dataframe with umls_snomed dataframe\n",
    "concept_drugs_expanded = pd.concat([umls_snomed_tui_filtered, df_drugs], axis=0)\n",
    "\n",
    "print(\"UMLS_snomed lines: \", len(umls_snomed_tui_filtered))\n",
    "print(\"Drugs lines: \", len(df_drugs))\n",
    "print(\"Adds up to: \", len(concept_drugs_expanded))"
   ]
  },
  {
   "cell_type": "code",
   "execution_count": null,
   "id": "ee2c11ca",
   "metadata": {},
   "outputs": [],
   "source": [
    "#Sort again and reset index\n",
    "concept_drugs_expanded.sort_values(by=['cui', 'name_status', 'ontologies', 'name'], inplace=True)\n",
    "concept_drugs_expanded.reset_index(drop=True,inplace=True)\n",
    "concept_drugs_expanded.head()"
   ]
  },
  {
   "cell_type": "code",
   "execution_count": null,
   "id": "df1eb014",
   "metadata": {},
   "outputs": [],
   "source": [
    "# Save final concept table\n",
    "concept_drugs_expanded.to_csv('04_ConceptDB/umls-dutch_v1.8_with_drugs.csv', index=False)"
   ]
  }
 ],
 "metadata": {
  "kernelspec": {
   "display_name": "Python 3",
   "language": "python",
   "name": "python3"
  },
  "language_info": {
   "codemirror_mode": {
    "name": "ipython",
    "version": 3
   },
   "file_extension": ".py",
   "mimetype": "text/x-python",
   "name": "python",
   "nbconvert_exporter": "python",
   "pygments_lexer": "ipython3",
   "version": "3.8.5"
  }
 },
 "nbformat": 4,
 "nbformat_minor": 5
}
