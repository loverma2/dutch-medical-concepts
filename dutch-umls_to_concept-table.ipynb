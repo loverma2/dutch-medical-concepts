{
 "cells": [
  {
   "cell_type": "markdown",
   "id": "88668725",
   "metadata": {},
   "source": [
    "# Dutch UMLS to concept table\n",
    "This notebook describes how to convert a UMLS concept table containing Dutch terms, to a formatted concept table to be used in a tool such as MedCAT. In the second part of this notebook, we add drug names from Dutch SNOMED, because these concepts are not well represented in the Dutch UMLS source vocabularies. A large scale automatic mapping from SNOMED Dutch to UMLS is not possible because of many-to-many mapping, explained in this notebook.\n",
    "\n",
    "Requirements:\n",
    "- MySQL database containing Dutch UMLS terms\n",
    "\n",
    "For adding Dutch SNOMED drug names:\n",
    "- Dutch SNOMED concept tablel, created in `dutch-snomed_to_concept-table.ipynb`\n",
    "- MySQL database containing SNOMED-US, which is used for mapping SNOMED Dutch -> UMLS"
   ]
  },
  {
   "cell_type": "code",
   "execution_count": null,
   "id": "d4d4edf2",
   "metadata": {},
   "outputs": [],
   "source": [
    "# Set output version of the generated UMLS dutch concept table\n",
    "UMLS_DUTCH_VERSION = 'v1.9'\n",
    "\n",
    "# Set input version of SNOMED to append to UMLS terms\n",
    "SNOMED_DUTCH_VERSION = 'v1.2'"
   ]
  },
  {
   "cell_type": "code",
   "execution_count": null,
   "id": "b8d2278f",
   "metadata": {},
   "outputs": [],
   "source": [
    "from sqlalchemy import create_engine\n",
    "from dotenv import load_dotenv\n",
    "import pandas as pd\n",
    "import numpy as np\n",
    "import json\n",
    "import re\n",
    "import os"
   ]
  },
  {
   "cell_type": "code",
   "execution_count": null,
   "id": "5d585074",
   "metadata": {},
   "outputs": [],
   "source": [
    "# Credentials to connect to UMLS MySQL database\n",
    "load_dotenv()\n",
    "user = os.getenv('MYSQL_USER')\n",
    "password = os.getenv('MYSQL_PASSWORD')\n",
    "host = os.getenv('MYSQL_HOST')\n",
    "port = os.getenv('MYSQL_PORT')\n",
    "database = os.getenv('MYSQL_DATABASE')\n",
    "\n",
    "# Create the connection\n",
    "connection_string = f'mysql://{user}:{password}@{host}:{port}/{database}'\n",
    "connection = create_engine(connection_string)"
   ]
  },
  {
   "cell_type": "code",
   "execution_count": null,
   "id": "917a6d76",
   "metadata": {},
   "outputs": [],
   "source": [
    "# Retrieve Dutch UMLS concepts\n",
    "query = \"\"\"\n",
    "SELECT cui, str, tty, sab FROM MRCONSO WHERE LAT = 'DUT'\n",
    "\"\"\"\n",
    "dutch_umls_original = pd.read_sql_query(query, con=connection)\n",
    "dutch_umls_original.head()"
   ]
  },
  {
   "cell_type": "markdown",
   "id": "7dac58ef",
   "metadata": {},
   "source": [
    "## Term type in source\n",
    "Some source-defined term types are not relevant for our use case. In the next part we will drop those. See https://www.nlm.nih.gov/research/umls/knowledge_sources/metathesaurus/release/abbreviations.html "
   ]
  },
  {
   "cell_type": "code",
   "execution_count": null,
   "id": "9e075074",
   "metadata": {},
   "outputs": [],
   "source": [
    "dutch_umls_original.tty.value_counts()"
   ]
  },
  {
   "cell_type": "markdown",
   "id": "683ba8d5",
   "metadata": {},
   "source": [
    "| TTY  | Description | Count | Example | Reference|\n",
    "| - | - | - | - | - |\n",
    "| PT | Designated preferred name| 111766 | harthypertrofie, Pancoast-syndroom ||\n",
    "| LLT | Lower Level Term | 71603 | heupkombreuk, buikkramp| |\n",
    "| LN | LOINC official fully specified name | 52313 | fencyclidine:massa/massa:moment:haar:kwantitatief | |\n",
    "| MH | Main heading | 28657 | Dehydratie, Astma | |\n",
    "| SY | Designated synonym | 11863 | Spanningshoofdpijn, Ziekte van Hodgkin | |\n",
    "| OL | Non-current Lower Level Term| 9291 | acquired immunodeficiency syndrome, ankylose van gewricht, meerdere plaatsen | https://meddra.org/sites/default/files/page/documents_insert/meddra_-_terminologies_coding.pdf |\n",
    "| HT | Hierarchical term | 3295 | calciummetabolismestoornissen, oculaire hemorragische aandoeningen\t | |\n",
    "| LO | Obsolete official fully specified name | 1696| promyelocyten/100 leukocyten:getalsfractie:mom...\t| |\n",
    "| HG | High Level Group Term |  337| complicaties geassocieerd met medisch hulpmiddel, zuur-basestoornissen | |\n",
    "| SMQ| Standardised MedDRA Query |  225| Leveraandoeningen (SMQ) , Tumormarkers (SMQ) | |\n",
    "| CP | ICPC component process (in original form) |   38| Ander bloedonderzoek, Medicatie/recept/injectie | |\n",
    "| OS | System-organ class |   27| Bloed- en lymfestelselaandoeningen, Infecties en parasitaire aandoeningen | |\n",
    "| AB | Abbreviation in any source vocabulary |   27| Infec, Neopl, Ear, Endo | |"
   ]
  },
  {
   "cell_type": "code",
   "execution_count": null,
   "id": "e4764c04",
   "metadata": {},
   "outputs": [],
   "source": [
    "# Select a set of TTYs that seem most relevant for entity linking\n",
    "tty_selection = ['PT', 'LLT', 'MH', 'SY']\n",
    "dutch_umls = dutch_umls_original[dutch_umls_original.tty.isin(tty_selection)].copy()\n",
    "\n",
    "# Keep only relevant columns\n",
    "dutch_umls = dutch_umls[['cui', 'str', 'tty', 'sab']]"
   ]
  },
  {
   "cell_type": "markdown",
   "id": "41a0488b",
   "metadata": {},
   "source": [
    "## Preferred names\n",
    "Most, if not all, of UMLS concepts have a preferred name in English. For other languages,\n",
    "it can be difficult to select a preferred name, because each source vocabulary has one or\n",
    "multiple preferred names for a concepts. For example, ICPC2ICD10DUT only contains preferred name-type values.\n",
    "\n",
    "It's not possible to keep the English UMLS preferred names, because MedCAT would add those names to the concept table for entity linking. Perhaps future functionality can be added for MedCAT to prevent taking these preferred names into account during entity linking.\n",
    "\n",
    "### Solution 1: Use UMLS source vocabularies preferred names\n",
    "For a rough but effective solution to get decent preferred names for the Dutch terms, change the terms that have the value \"Designated preferred name\" (PT) for the \"Term Type in Source\" (TTY) to MedCAT's preferred name value (P), and all others can be saved as (A). See https://github.com/CogStack/MedCAT/blob/master/examples/README.md"
   ]
  },
  {
   "cell_type": "code",
   "execution_count": null,
   "id": "c3925069",
   "metadata": {},
   "outputs": [],
   "source": [
    "# dutch_umls.tty.replace({'PT': 'P',\n",
    "#                                   'LLT': 'A',\n",
    "#                                   'MH': 'A',\n",
    "#                                   'SY': 'A'}, inplace=True)"
   ]
  },
  {
   "cell_type": "markdown",
   "id": "7f0d634f",
   "metadata": {},
   "source": [
    "### Solution 2: Use preferred names from Dutch SNOMED\n",
    "In previous experiments we have shown that the Dutch vocabularies from UMLS and Dutch SNOMED complement each other. SNOMED however, does provide most of the names, and contains excellent primary names. So we could use the preferred names from Dutch SNOMED, and for the terms not in that vocabulary, let MedCAT pick a random one."
   ]
  },
  {
   "cell_type": "code",
   "execution_count": null,
   "id": "bfc16ac8",
   "metadata": {},
   "outputs": [],
   "source": [
    "# Drop tty column, put it back in just before merging with SNOMED\n",
    "dutch_umls.drop(['tty'], axis=1, inplace=True)\n",
    "dutch_umls.head()"
   ]
  },
  {
   "cell_type": "markdown",
   "id": "16a07c8d",
   "metadata": {},
   "source": [
    "## Clean values"
   ]
  },
  {
   "cell_type": "code",
   "execution_count": null,
   "id": "ab933e50",
   "metadata": {},
   "outputs": [],
   "source": [
    "dutch_umls[dutch_umls.cui == 'C0000833']"
   ]
  },
  {
   "cell_type": "code",
   "execution_count": null,
   "id": "64daba6b",
   "metadata": {},
   "outputs": [],
   "source": [
    "# Remove \"NAO\" (\"Niet Anders Omschreven\"), which is relevant for the source terminlogy but not for entity linking.\n",
    "# See https://meddra.org/sites/default/files/guidance/file/intguide_15_0_dutch.pdf\n",
    "dutch_umls.str = dutch_umls.str.replace({' NAO': '', ' \\(NAO\\)': '', ' nao': ''}, regex=True)\n",
    "dutch_umls[dutch_umls.cui == 'C0000833']"
   ]
  },
  {
   "cell_type": "code",
   "execution_count": null,
   "id": "7021b6a0",
   "metadata": {},
   "outputs": [],
   "source": [
    "def convert_title_to_lowercase(name):\n",
    "    if name.split(' ')[0].istitle():\n",
    "        return name.lower()\n",
    "    else:\n",
    "        return name\n",
    "\n",
    "# Many ontologies start all names with an uppercase and consider it a title. \n",
    "# SNOMEDCT does not do this, so to prevent duplication, convert all title-cased names to lowercase.\n",
    "# Converting all names to lowercase could lead to issues for names that are in all uppercase, such as ALS.\n",
    "dutch_umls['str'] = dutch_umls['str'].apply(convert_title_to_lowercase)\n",
    "dutch_umls[dutch_umls.cui == 'C0000833']"
   ]
  },
  {
   "cell_type": "code",
   "execution_count": null,
   "id": "2bf07618",
   "metadata": {},
   "outputs": [],
   "source": [
    "# Drop duplicates\n",
    "print(f'Records before dropping duplicates: {dutch_umls.shape[0]}')\n",
    "dutch_umls = dutch_umls.drop_duplicates(subset=['cui', 'str', 'sab'], keep='first').reset_index(drop=True)\n",
    "dutch_umls[dutch_umls.cui == 'C0000833']"
   ]
  },
  {
   "cell_type": "code",
   "execution_count": null,
   "id": "b7666af4",
   "metadata": {},
   "outputs": [],
   "source": [
    "dutch_umls[dutch_umls.cui == 'C0002736']"
   ]
  },
  {
   "cell_type": "markdown",
   "id": "05a75a11",
   "metadata": {},
   "source": [
    "## Merge rows from different vocabularies"
   ]
  },
  {
   "cell_type": "code",
   "execution_count": null,
   "id": "4e3033df",
   "metadata": {},
   "outputs": [],
   "source": [
    "# Merge SAB into single row\n",
    "print(f'Records before merging rows: {dutch_umls.shape[0]}')\n",
    "dutch_umls = dutch_umls.groupby(['cui','str'])['sab'].apply('|'.join).reset_index()\n",
    "print(f'Records after merging rows: {dutch_umls.shape[0]}')\n",
    "dutch_umls[dutch_umls.cui == 'C0000833']"
   ]
  },
  {
   "cell_type": "code",
   "execution_count": null,
   "id": "ce555c75",
   "metadata": {},
   "outputs": [],
   "source": [
    "# Add tty column with value 'A' to set these names as synonyms \n",
    "dutch_umls['tty'] = 'A'\n",
    "dutch_umls.head(20)"
   ]
  },
  {
   "cell_type": "markdown",
   "id": "1bfbf387",
   "metadata": {},
   "source": [
    "# Add Dutch names from SNOMED\n",
    "UMLS does not contain the Dutch SNOMEDCT, but it does contain the English SNOMEDCT_US. So through the English SNOMED concepts, we can map the Dutch SNOMED names to UMLS.\n",
    "\n",
    "Dutch SNOMED names with SNOMED ID **->** Get English SNOMED ID to UMLS ID mapping **->** Map Dutch SNOMED names with SNOMED ID to UMLS ID"
   ]
  },
  {
   "cell_type": "markdown",
   "id": "057b07cf",
   "metadata": {},
   "source": [
    "### Load SNOMED US"
   ]
  },
  {
   "cell_type": "code",
   "execution_count": null,
   "id": "bd9ef671",
   "metadata": {},
   "outputs": [],
   "source": [
    "query = \"SELECT distinct cui, scui FROM MRCONSO where sab = 'SNOMEDCT_US'\"\n",
    "snomed_us = pd.read_sql_query(query, con=connection)\n",
    "snomed_us.scui = snomed_us.scui.astype(str)\n",
    "print(f'SNOMED US terms with UMLS CUI: {snomed_us.shape[0]}')\n",
    "snomed_us.head()"
   ]
  },
  {
   "cell_type": "markdown",
   "id": "c77106df",
   "metadata": {},
   "source": [
    "### Load SNOMED NL\n",
    "We're using a cleaned and filtered list of Dutch SNOMED names, see other notebook in this repository how this is created."
   ]
  },
  {
   "cell_type": "code",
   "execution_count": null,
   "id": "38f4b1bf",
   "metadata": {},
   "outputs": [],
   "source": [
    "snomed_dutch = pd.read_csv(f'04_ConceptDB/snomedct-dutch_{SNOMED_DUTCH_VERSION}.csv', dtype=str)\n",
    "snomed_dutch.head()"
   ]
  },
  {
   "cell_type": "code",
   "execution_count": null,
   "id": "d98ea3c2",
   "metadata": {},
   "outputs": [],
   "source": [
    "snomed_dutch.shape"
   ]
  },
  {
   "cell_type": "markdown",
   "id": "b2a8387b",
   "metadata": {},
   "source": [
    "## Find ambiguous mapping"
   ]
  },
  {
   "cell_type": "markdown",
   "id": "f4544a87",
   "metadata": {},
   "source": [
    "First find which SNOMED concepts can map to UMLS concepts. SNOMED concepts could map to multiple UMLS concepts."
   ]
  },
  {
   "cell_type": "code",
   "execution_count": null,
   "id": "2c009195",
   "metadata": {},
   "outputs": [],
   "source": [
    "# Create SNOMED - UMLS mapping\n",
    "snomed_to_umls_mapping = snomed_us.groupby('scui')['cui'].apply(list).to_dict()\n",
    "print(f'Number of SNOMED US IDs that map to at least 1 CUI: {len(snomed_to_umls_mapping)}')"
   ]
  },
  {
   "cell_type": "code",
   "execution_count": null,
   "id": "795a374e",
   "metadata": {},
   "outputs": [],
   "source": [
    "# Check ambiguity of UMLS-SNOMED mapping\n",
    "unambiguous_mapping_ids = set()\n",
    "ambiguous_mapping_ids = set()\n",
    "for snomed_id in snomed_to_umls_mapping:\n",
    "    if len(snomed_to_umls_mapping[snomed_id]) == 1:\n",
    "        unambiguous_mapping_ids.add(snomed_id)\n",
    "    else:\n",
    "        ambiguous_mapping_ids.add(snomed_id)\n",
    "print(f'Number of SNOMED IDs that map to only 1 CUI: {len(unambiguous_mapping_ids)}')\n",
    "print(f'Number of SNOMED IDs that map to multiple CUIs: {len(ambiguous_mapping_ids)}')"
   ]
  },
  {
   "cell_type": "markdown",
   "id": "0836f0fa",
   "metadata": {},
   "source": [
    "So 2073 SNOMED concepts map to multiple UMLS concepts. If we would add the Dutch names from SNOMED, we would have to add them to all UMLS concepts. This will introduce ambiguity, which will lead to problems in our downstream named entity linking methods. Therefor we don't add names for these ambiguously mapping SNOMED concepts."
   ]
  },
  {
   "cell_type": "markdown",
   "id": "23212fd0",
   "metadata": {},
   "source": [
    "## Example of ambiguous mapping"
   ]
  },
  {
   "cell_type": "code",
   "execution_count": null,
   "id": "becae652",
   "metadata": {},
   "outputs": [],
   "source": [
    "# Find example\n",
    "ambiguous_mapping_ids = [int(code) for code in ambiguous_mapping_ids]\n",
    "ambiguous_mapping_ids.sort()\n",
    "ambiguous_mapping_ids = [str(code) for code in ambiguous_mapping_ids]\n",
    "ambiguous_mapping_ids[0:5]"
   ]
  },
  {
   "cell_type": "code",
   "execution_count": null,
   "id": "594a5f1c",
   "metadata": {},
   "outputs": [],
   "source": [
    "query = \"SELECT distinct cui, code, str FROM MRCONSO where sab = 'SNOMEDCT_US' and CODE = '216004'\"\n",
    "snomed_us_example = pd.read_sql_query(query, con=connection)\n",
    "snomed_us_example.head()"
   ]
  },
  {
   "cell_type": "code",
   "execution_count": null,
   "id": "897223cc",
   "metadata": {},
   "outputs": [],
   "source": [
    "snomed_dutch[snomed_dutch.cui == '216004']"
   ]
  },
  {
   "cell_type": "code",
   "execution_count": null,
   "id": "2ca6e345",
   "metadata": {},
   "outputs": [],
   "source": [
    "dutch_umls[dutch_umls.cui.isin(['C0151836', 'C1704268'])]"
   ]
  },
  {
   "cell_type": "markdown",
   "id": "7b64509f",
   "metadata": {},
   "source": [
    "So SNOMED US has four names for 216004. Three of these names map to C1704268 and one maps to C0151836. In SNOMED NL, there is only one name for this concept. We could map this name to both concepts, to a specific one, or ignore it.\n",
    "\n",
    "- Mapping to both will cause ambiguity. It might have no effect on entity linking, as it could be solved during MedCAT's unsupervised training, depending on the synonyms and their presence in the training corpus. In this example there is only 1 Dutch SNOMED term, but when there are multiple Dutch SNOMED terms, adding all to both terms, will lead to many duplicates.\n",
    "- Mapping to a single one is the best option for a single example, but this is time consuming, not within the scope and responsibility of this project and can be quite difficult. There are about 2000 of these terms. SNOMED US names are in UMLS, so those ambiguously mapping names are are added by either the UMLS or SNOMED team.\n",
    "- Ignoring the name is the easiest option and will not lead to potential difficult downstream interpretation. The drawback is that the name, which in this example is unique to SNOMED NL, will not be in the final Dutch UMLS table."
   ]
  },
  {
   "cell_type": "code",
   "execution_count": null,
   "id": "1f92a681",
   "metadata": {},
   "outputs": [],
   "source": [
    "# Another example of ambiguous SNOMED-CT -> UMLS mapping:\n",
    "snomed_dutch[snomed_dutch.cui == '2776000']"
   ]
  },
  {
   "cell_type": "code",
   "execution_count": null,
   "id": "2477d83e",
   "metadata": {},
   "outputs": [],
   "source": [
    "# Show that a single SNOMED ID maps to multiple UMLS concepts\n",
    "query = \"SELECT distinct cui, code, str FROM MRCONSO where sab = 'SNOMEDCT_US' and CODE = '2776000'\"\n",
    "snomed_us_example = pd.read_sql_query(query, con=connection)\n",
    "snomed_us_example.head()"
   ]
  },
  {
   "cell_type": "markdown",
   "id": "71580c8c",
   "metadata": {},
   "source": [
    "## Merge SNOMED Dutch with UMLS Dutch"
   ]
  },
  {
   "cell_type": "code",
   "execution_count": null,
   "id": "fc4a6225",
   "metadata": {},
   "outputs": [],
   "source": [
    "# Create dictionary of UMLS concepts that are in our existing Dutch name table\n",
    "dutch_umls_ids=dutch_umls.groupby('cui')['str'].apply(list).to_dict()\n",
    "\n",
    "# Create a set with all Dutch UMLS names in lowercase\n",
    "dutch_umls_names_lowercase = set()\n",
    "for cui in dutch_umls_ids:\n",
    "    for value in dutch_umls_ids[cui]:\n",
    "        dutch_umls_names_lowercase.add(value.lower())\n",
    "        \n",
    "# Also create a column with the lowercase names, which allows for easy comparison \n",
    "snomed_dutch['lowercase_str'] = snomed_dutch.str.str.lower()"
   ]
  },
  {
   "cell_type": "code",
   "execution_count": null,
   "id": "a09beb7f",
   "metadata": {},
   "outputs": [],
   "source": [
    "def map_dutch_snomed_to_umls(row):\n",
    "    snomed_id = row['cui']\n",
    "    if snomed_id in unambiguous_mapping_ids:\n",
    "        cui = snomed_to_umls_mapping[snomed_id][0]\n",
    "        snomed_names_to_add.append([cui, row['str'], row['tty']])\n",
    "snomed_names_to_add = list()\n",
    "snomed_names_to_skip = list()\n",
    "\n",
    "# Map Dutch SNOMED to UMLS\n",
    "snomed_dutch.apply(map_dutch_snomed_to_umls, axis = 1)\n",
    "\n",
    "print(f'Number of Dutch names in existing UMLS table: {dutch_umls.shape[0]}')\n",
    "print(f'Number of Dutch SNOMED names to add: {len(snomed_names_to_add)}')\n",
    "print(f'Number of Dutch SNOMED names to skip: {len(snomed_names_to_skip)}')"
   ]
  },
  {
   "cell_type": "markdown",
   "id": "89c50914",
   "metadata": {},
   "source": [
    "### Example of skipped names"
   ]
  },
  {
   "cell_type": "code",
   "execution_count": null,
   "id": "6593b9fd",
   "metadata": {},
   "outputs": [],
   "source": [
    "# Format SNOMED names in pandas dataframe\n",
    "snomed_names_with_cui = pd.DataFrame(snomed_names_to_add, columns = ['cui', 'str', 'tty'])\n",
    "snomed_names_with_cui['sab'] = 'SNOMEDCT_NL'\n",
    "snomed_names_with_cui.head()"
   ]
  },
  {
   "cell_type": "markdown",
   "id": "0933494c",
   "metadata": {},
   "source": [
    "### Remove duplicate SNOMED concepts\n",
    "Multiple SNOMED concepts can map to a single UMLS concept."
   ]
  },
  {
   "cell_type": "code",
   "execution_count": null,
   "id": "fb03eaa7",
   "metadata": {},
   "outputs": [],
   "source": [
    "snomed_dutch[snomed_dutch.str == 'abces']"
   ]
  },
  {
   "cell_type": "code",
   "execution_count": null,
   "id": "7ee2ed30",
   "metadata": {},
   "outputs": [],
   "source": [
    "snomed_to_umls_mapping['44132006']"
   ]
  },
  {
   "cell_type": "code",
   "execution_count": null,
   "id": "42170bb6",
   "metadata": {},
   "outputs": [],
   "source": [
    "snomed_to_umls_mapping['128477000']"
   ]
  },
  {
   "cell_type": "code",
   "execution_count": null,
   "id": "95efe9f1",
   "metadata": {},
   "outputs": [],
   "source": [
    "snomed_names_with_cui[snomed_names_with_cui.cui == 'C0000833']"
   ]
  },
  {
   "cell_type": "code",
   "execution_count": null,
   "id": "d39169d5",
   "metadata": {},
   "outputs": [],
   "source": [
    "print(f'Number of duplicate SNOMED names: {snomed_names_with_cui.shape[0]}')\n",
    "snomed_names_with_cui = snomed_names_with_cui.drop_duplicates(subset=['cui', 'str', 'sab', 'tty'], keep='first').reset_index(drop=True)\n",
    "print(f'Number of SNOMED names: {snomed_names_with_cui.shape[0]}')\n",
    "snomed_names_with_cui[snomed_names_with_cui.cui == 'C0000833']"
   ]
  },
  {
   "cell_type": "markdown",
   "id": "673e96a9",
   "metadata": {},
   "source": [
    "### Concatenate SNOMED names to UMLS table"
   ]
  },
  {
   "cell_type": "code",
   "execution_count": null,
   "id": "526f1b84",
   "metadata": {},
   "outputs": [],
   "source": [
    "# Add SNOMED names to UMLS\n",
    "dutch_umls_snomed = pd.concat([dutch_umls, snomed_names_with_cui])\n",
    "print(f'Number of Dutch names in UMLS + SNOMED table: {dutch_umls_snomed.shape[0]}')"
   ]
  },
  {
   "cell_type": "code",
   "execution_count": null,
   "id": "d74b98d8",
   "metadata": {},
   "outputs": [],
   "source": [
    "# Grouping rows on SAB\n",
    "dutch_umls_snomed = dutch_umls_snomed.groupby(['cui', 'str', 'tty'])['sab'].apply('|'.join).reset_index()\n",
    "print(f'Number of names after merging rows on SAB: {dutch_umls_snomed.shape[0]}')"
   ]
  },
  {
   "cell_type": "code",
   "execution_count": null,
   "id": "e75cc86e",
   "metadata": {},
   "outputs": [],
   "source": [
    "# Sort on CUI and TTY\n",
    "dutch_umls_snomed.sort_values(by=['cui', 'tty', 'sab', 'str'], ascending=[True, False, True, True], inplace=True)\n",
    "dutch_umls_snomed.reset_index(drop=True,inplace=True)\n",
    "dutch_umls_snomed[0:20]"
   ]
  },
  {
   "cell_type": "code",
   "execution_count": null,
   "id": "4e721004",
   "metadata": {},
   "outputs": [],
   "source": [
    "# View some concepts that have are \"P\" in SNOMEDCT_NL and \"A\" in another SB \n",
    "dutch_umls_snomed[dutch_umls_snomed.duplicated(subset=['cui', 'str'], keep=False)].head(10)"
   ]
  },
  {
   "cell_type": "markdown",
   "id": "5332c845",
   "metadata": {},
   "source": [
    "## Remove problematic names\n"
   ]
  },
  {
   "cell_type": "code",
   "execution_count": null,
   "id": "6c9f4ce5",
   "metadata": {},
   "outputs": [],
   "source": [
    "names_to_remove = ['Bij', # C0004923\n",
    "                   'Bijen', # C0004923\n",
    "                   'Haar', # C0018494\n",
    "                   'bleek', # C0678215\n",
    "                   'Weer', # C0043085\n",
    "                   'Na+'] # C0337443\n",
    "dutch_umls_snomed[dutch_umls_snomed.str.isin(names_to_remove)]"
   ]
  },
  {
   "cell_type": "code",
   "execution_count": null,
   "id": "b1c96ca5",
   "metadata": {},
   "outputs": [],
   "source": [
    "# Remove rows\n",
    "rows_to_remove = dutch_umls_snomed[dutch_umls_snomed.str.isin(names_to_remove)].index\n",
    "print(f'Number of rows before removing rows: {dutch_umls_snomed.shape[0]}')\n",
    "dutch_umls_snomed = dutch_umls_snomed.drop(dutch_umls_snomed.index[rows_to_remove])\n",
    "print(f'Number of rows after removing rows: {dutch_umls_snomed.shape[0]}')"
   ]
  },
  {
   "cell_type": "markdown",
   "id": "5f67ac04",
   "metadata": {},
   "source": [
    "## Add custom CUIs\n",
    "Sometimes names or concept are not captured in any of the Dutch terminologies. By looking up the English name for these concepts, we can add custom Dutch names using the real UMLS identifier."
   ]
  },
  {
   "cell_type": "code",
   "execution_count": null,
   "id": "667c8d5a",
   "metadata": {},
   "outputs": [],
   "source": [
    "dutch_umls_snomed.head()"
   ]
  },
  {
   "cell_type": "code",
   "execution_count": null,
   "id": "bcb92c5d",
   "metadata": {},
   "outputs": [],
   "source": [
    "custom_concepts = pd.read_csv(\"custom_concepts.csv\")\n",
    "custom_concepts"
   ]
  },
  {
   "cell_type": "code",
   "execution_count": null,
   "id": "89a6a53d",
   "metadata": {},
   "outputs": [],
   "source": [
    "print(f'Number of rows before adding rows: {dutch_umls_snomed.shape[0]}')\n",
    "dutch_umls_snomed = pd.concat([dutch_umls_snomed, custom_concepts])\n",
    "print(f'Number of rows after adding rows: {dutch_umls_snomed.shape[0]}')"
   ]
  },
  {
   "cell_type": "markdown",
   "id": "252eb37b",
   "metadata": {},
   "source": [
    "## Add TUI (types)\n",
    "UMLS concepts have one or multiple types. These types are kept in a separate table, `MRSTY`. See https://semanticnetwork.nlm.nih.gov/download/SemGroups.txt for all types."
   ]
  },
  {
   "cell_type": "code",
   "execution_count": null,
   "id": "6f7b965b",
   "metadata": {},
   "outputs": [],
   "source": [
    "# Load TUI table from MySQL\n",
    "query = \"\"\"\n",
    "SELECT cui, tui FROM MRSTY\n",
    "\"\"\"\n",
    "tui_original = pd.read_sql_query(query, con=connection)\n",
    "tui_original.head()"
   ]
  },
  {
   "cell_type": "code",
   "execution_count": null,
   "id": "0c741fdf",
   "metadata": {},
   "outputs": [],
   "source": [
    "# Add TUI column to UMLS + SNOMED CUI table\n",
    "dutch_umls_snomed = dutch_umls_snomed.merge(tui_original, how='left', on='cui')\n",
    "dutch_umls_snomed.head(20)"
   ]
  },
  {
   "cell_type": "markdown",
   "id": "6a598431",
   "metadata": {},
   "source": [
    "## TUI Filtering\n",
    "We could implement filtering of TUIs here. This depends on the domain and question of subsequent analysis. For SNOMED names there has been a seperate filtering step based on type, which is done in the notebook that creates the SNOMED concept table."
   ]
  },
  {
   "cell_type": "code",
   "execution_count": null,
   "id": "23b21b41",
   "metadata": {},
   "outputs": [],
   "source": [
    "tuis_to_remove = [\n",
    "    \n",
    "    # Concepts & Ideas\n",
    "    'T078', # Idea or Concept\n",
    "    'T089', # Regulation or Law\n",
    "\n",
    "    # Living beings\n",
    "    'T011', # Amphibian\n",
    "    'T008', # Animal\n",
    "    'T012', # Bird\n",
    "    'T013', # Fish\n",
    "    'T015', # Mammal\n",
    "    'T001', # Organism\n",
    "    'T001', # Plant\n",
    "    'T014', # Reptile\n",
    "    'T010', # Vertebrate\n",
    "    \n",
    "    # Objects\n",
    "    'T168', # Food\n",
    "    \n",
    "    # Organizations\n",
    "    'T093', # Healthcare Related Organization\n",
    "    \n",
    "    # Geographic areas\n",
    "    'T083', #Geographic Aera\n",
    "]\n",
    "                  \n",
    "dutch_umls_snomed[dutch_umls_snomed.tui.isin(tuis_to_remove)].head()"
   ]
  },
  {
   "cell_type": "code",
   "execution_count": null,
   "id": "1eeaf3fd",
   "metadata": {},
   "outputs": [],
   "source": [
    "# Remove rows based on TUI\n",
    "rows_to_remove = dutch_umls_snomed[dutch_umls_snomed.tui.isin(tuis_to_remove)].index\n",
    "print(f'Number of rows before removing rows: {dutch_umls_snomed.shape[0]}')\n",
    "dutch_umls_snomed = dutch_umls_snomed.drop(dutch_umls_snomed.index[rows_to_remove])\n",
    "print(f'Number of rows after removing rows: {dutch_umls_snomed.shape[0]}')"
   ]
  },
  {
   "cell_type": "code",
   "execution_count": null,
   "id": "670b7eda",
   "metadata": {},
   "outputs": [],
   "source": [
    "dutch_umls_snomed = dutch_umls_snomed.groupby(['cui', 'str', 'tty', 'sab'])['tui'].apply('|'.join).reset_index()\n",
    "print(f'Number of rows after merging TUIs in single value: {dutch_umls_snomed.shape[0]}')"
   ]
  },
  {
   "cell_type": "code",
   "execution_count": null,
   "id": "7a8b3a34",
   "metadata": {},
   "outputs": [],
   "source": [
    "dutch_umls_snomed"
   ]
  },
  {
   "cell_type": "markdown",
   "id": "8e9e235a",
   "metadata": {},
   "source": [
    "### Update column names\n",
    "In MedCAT v1.0 the column name specification has changed and is defined as in the [README.md in examples](https://github.com/CogStack/MedCAT/tree/master/examples)."
   ]
  },
  {
   "cell_type": "code",
   "execution_count": null,
   "id": "87984b22",
   "metadata": {},
   "outputs": [],
   "source": [
    "dutch_umls_snomed.rename(columns={'str': 'name', 'tty': 'name_status', 'sab': 'ontologies', 'tui': 'type_ids'}, inplace=True)\n",
    "dutch_umls_snomed.head()"
   ]
  },
  {
   "cell_type": "markdown",
   "id": "2ff64c26",
   "metadata": {},
   "source": [
    "## Add drug names\n",
    "Only run this part below if you want to further expand the concept database with drug names, adds around 270k lines. We're not lowering drug names that start with a capital letter, since this can be a brand name."
   ]
  },
  {
   "cell_type": "code",
   "execution_count": null,
   "id": "97470723",
   "metadata": {},
   "outputs": [],
   "source": [
    "#In case you want to begin from here, load existing concept table:\n",
    "#dutch_umls_snomed = pd.read_csv(\"04_ConceptDB/umls-dutch_{UMLS_DUTCH_VERSION}.csv\", dtype=str)"
   ]
  },
  {
   "cell_type": "code",
   "execution_count": null,
   "id": "2063f5c0",
   "metadata": {},
   "outputs": [],
   "source": [
    "# Retrieve Dutch UMLS concepts\n",
    "query = \"\"\"\n",
    "SELECT distinct MRCONSO.cui, str as name, sab as ontologies \n",
    "FROM MRCONSO\n",
    "WHERE SAB in ('ATC','DRUGBANK','RXNORM')\n",
    "\"\"\"\n",
    "drugs_original = pd.read_sql_query(query, con=connection)\n",
    "drugs_original.head()"
   ]
  },
  {
   "cell_type": "code",
   "execution_count": null,
   "id": "5c8f68ae",
   "metadata": {},
   "outputs": [],
   "source": [
    "# Get the name got a preferred name from another vocab\n",
    "drugs_original['name_status'] = 'A'"
   ]
  },
  {
   "cell_type": "code",
   "execution_count": null,
   "id": "d965c9ba",
   "metadata": {},
   "outputs": [],
   "source": [
    "# Merge drugs dataframe with umls_snomed dataframe\n",
    "dutch_umls_snomed_drugs = pd.concat([dutch_umls_snomed, drugs_original], axis=0)\n",
    "\n",
    "print(\"UMLS_snomed lines: \", len(dutch_umls_snomed))\n",
    "print(\"Drugs lines: \", len(drugs_original))\n",
    "print(\"Adds up to: \", len(dutch_umls_snomed_drugs))\n",
    "\n",
    "dutch_umls_snomed_drugs = dutch_umls_snomed_drugs.groupby(['cui', 'name', 'name_status'])['ontologies'].apply('|'.join).reset_index()\n",
    "print(\"Records after merging ontologies in single value: \", len(dutch_umls_snomed_drugs))\n",
    "dutch_umls_snomed_drugs"
   ]
  },
  {
   "cell_type": "code",
   "execution_count": null,
   "id": "18a83a34",
   "metadata": {},
   "outputs": [],
   "source": [
    "# Add TUIs again\n",
    "dutch_umls_snomed_drugs = dutch_umls_snomed_drugs.merge(tui_original, how='left', on='cui')\n",
    "print(f'Number of rows containing TUIs: {dutch_umls_snomed_drugs.shape[0]}')\n",
    "\n",
    "# Remove TUIs\n",
    "dutch_umls_snomed_drugs = dutch_umls_snomed_drugs.drop(dutch_umls_snomed_drugs.index[rows_to_remove])\n",
    "print(f'Number of rows filtering TUIs: {dutch_umls_snomed_drugs.shape[0]}')\n",
    "\n",
    "# Merge TUIs in single value\n",
    "dutch_umls_snomed_drugs = dutch_umls_snomed_drugs.groupby(['cui', 'name', 'name_status', 'ontologies'])['tui'].apply('|'.join).reset_index()\n",
    "print(f'Number of rows after merging TUIs in single value: {dutch_umls_snomed_drugs.shape[0]}')\n",
    "\n",
    "# Sort values\n",
    "dutch_umls_snomed_drugs = dutch_umls_snomed_drugs.sort_values(by=['cui', 'name_status', 'name', 'ontologies'], ascending=[True, False, True, True]).reset_index(drop=True)\n",
    "dutch_umls_snomed_drugs.head(20)"
   ]
  },
  {
   "cell_type": "markdown",
   "id": "52fdec7e",
   "metadata": {},
   "source": [
    "## Saving"
   ]
  },
  {
   "cell_type": "code",
   "execution_count": null,
   "id": "4e8d84e6",
   "metadata": {},
   "outputs": [],
   "source": [
    "# Save final concept table\n",
    "dutch_umls_snomed.to_csv(f'04_ConceptDB/umls-dutch_{UMLS_DUTCH_VERSION}.csv', index=False)"
   ]
  },
  {
   "cell_type": "code",
   "execution_count": null,
   "id": "f279ad5f",
   "metadata": {},
   "outputs": [],
   "source": [
    "# Save final concept table with drugs\n",
    "dutch_umls_snomed_drugs.to_csv(f'04_ConceptDB/umls-dutch_{UMLS_DUTCH_VERSION}_with_drugs.csv', index=False)"
   ]
  }
 ],
 "metadata": {
  "kernelspec": {
   "display_name": "Python 3 (ipykernel)",
   "language": "python",
   "name": "python3"
  },
  "language_info": {
   "codemirror_mode": {
    "name": "ipython",
    "version": 3
   },
   "file_extension": ".py",
   "mimetype": "text/x-python",
   "name": "python",
   "nbconvert_exporter": "python",
   "pygments_lexer": "ipython3",
   "version": "3.8.11"
  }
 },
 "nbformat": 4,
 "nbformat_minor": 5
}
