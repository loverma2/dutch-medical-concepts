{
 "cells": [
  {
   "cell_type": "markdown",
   "id": "21752fd2",
   "metadata": {},
   "source": [
    "# Dutch UMLS to concept table\n",
    "This notebook describes how to convert a UMLS concept table containing Dutch terms, to a formatted concept table to be used in a tool such as MedCAT. In the second part of this notebook, we add drug names from Dutch SNOMED, because these concepts are not well represented in the Dutch UMLS source vocabularies. A large scale automatic mapping from SNOMED Dutch to UMLS is not possible because there of many-to-mapping mapping.\n",
    "\n",
    "Requirements:\n",
    "- MySQL database containing Dutch UMLS terms\n",
    "\n",
    "For adding Dutch SNOMED drug names:\n",
    "- Dutch SNOMED concept tablel, created in `dutch-snomed_to_concept-table.ipynb`\n",
    "- MySQL database containing SNOMED-US, which is used for mapping SNOMED Dutch -> UMLS"
   ]
  },
  {
   "cell_type": "code",
   "execution_count": null,
   "id": "38362f96",
   "metadata": {},
   "outputs": [],
   "source": [
    "from sqlalchemy import create_engine\n",
    "from dotenv import load_dotenv\n",
    "import pandas as pd\n",
    "import numpy as np\n",
    "import json\n",
    "import re\n",
    "import os"
   ]
  },
  {
   "cell_type": "code",
   "execution_count": null,
   "id": "6f30e994",
   "metadata": {},
   "outputs": [],
   "source": [
    "# Credentials to connect to UMLS MySQL database\n",
    "load_dotenv()\n",
    "user = os.getenv('MYSQL_USER')\n",
    "password = os.getenv('MYSQL_PASSWORD')\n",
    "host = os.getenv('MYSQL_HOST')\n",
    "port = os.getenv('MYSQL_PORT')\n",
    "database = os.getenv('MYSQL_DATABASE')\n",
    "\n",
    "# Create the connection\n",
    "connection_string = f'mysql://{user}:{password}@{host}:{port}/{database}'\n",
    "connection = create_engine(connection_string)"
   ]
  },
  {
   "cell_type": "code",
   "execution_count": null,
   "id": "354e1f5a",
   "metadata": {},
   "outputs": [],
   "source": [
    "# Retrieve Dutch UMLS concepts\n",
    "query = \"\"\"\n",
    "SELECT * FROM MRCONSO WHERE LAT = 'DUT'\n",
    "\"\"\"\n",
    "df_dutch_umls = pd.read_sql_query(query, con=connection)\n",
    "df_dutch_umls.head()"
   ]
  },
  {
   "cell_type": "markdown",
   "id": "11afb041",
   "metadata": {},
   "source": [
    "## Term type in source\n",
    "Some source-defined term types are not relevant for our use case. In the next part we will drop those. See https://www.nlm.nih.gov/research/umls/knowledge_sources/metathesaurus/release/abbreviations.html "
   ]
  },
  {
   "cell_type": "code",
   "execution_count": null,
   "id": "4b890dd9",
   "metadata": {},
   "outputs": [],
   "source": [
    "df_dutch_umls.TTY.value_counts()"
   ]
  },
  {
   "cell_type": "markdown",
   "id": "d2c5e046",
   "metadata": {},
   "source": [
    "| TTY  | Description | Count | Example | Reference|\n",
    "| - | - | - | - | - |\n",
    "| PT | Designated preferred name| 111766 | harthypertrofie, Pancoast-syndroom ||\n",
    "| LLT | Lower Level Term | 71603 | heupkombreuk, buikkramp| |\n",
    "| LN | LOINC official fully specified name | 52313 | fencyclidine:massa/massa:moment:haar:kwantitatief | |\n",
    "| MH | Main heading | 28657 | Dehydratie, Astma | |\n",
    "| SY | Designated synonym | 11863 | Spanningshoofdpijn, Ziekte van Hodgkin | |\n",
    "| OL | Non-current Lower Level Term| 9291 | acquired immunodeficiency syndrome, ankylose van gewricht, meerdere plaatsen | https://meddra.org/sites/default/files/page/documents_insert/meddra_-_terminologies_coding.pdf |\n",
    "| HT | Hierarchical term | 3295 | calciummetabolismestoornissen, oculaire hemorragische aandoeningen\t | |\n",
    "| LO | Obsolete official fully specified name | 1696| promyelocyten/100 leukocyten:getalsfractie:mom...\t| |\n",
    "| HG | High Level Group Term |  337| complicaties geassocieerd met medisch hulpmiddel, zuur-basestoornissen | |\n",
    "| SMQ| Standardised MedDRA Query |  225| Leveraandoeningen (SMQ) , Tumormarkers (SMQ) | |\n",
    "| CP | ICPC component process (in original form) |   38| Ander bloedonderzoek, Medicatie/recept/injectie | |\n",
    "| OS | System-organ class |   27| Bloed- en lymfestelselaandoeningen, Infecties en parasitaire aandoeningen | |\n",
    "| AB | Abbreviation in any source vocabulary |   27| Infec, Neopl, Ear, Endo | |"
   ]
  },
  {
   "cell_type": "code",
   "execution_count": null,
   "id": "6d56d49e",
   "metadata": {},
   "outputs": [],
   "source": [
    "# Select a set of TTYs that seem most relevant for entity linking\n",
    "tty_selection = ['PT', 'LLT', 'MH', 'SY']\n",
    "df_dutch_umls_subset = df_dutch_umls[df_dutch_umls.TTY.isin(tty_selection)].copy()\n",
    "\n",
    "# Keep only relevant columns\n",
    "df_dutch_umls_subset = df_dutch_umls_subset[['CUI', 'STR', 'TTY', 'SAB']]\n",
    "df_dutch_umls_subset.rename({'CUI': 'cui', 'STR': 'str', 'TTY': 'tty', 'SAB': 'sab'}, inplace=True, axis=1)\n",
    "\n",
    "# Most of the terms in UMLS have the Metathesaurus preferred name in English. \n",
    "# For a rough but effective fix to get a good preferred name for the Dutch terms, \n",
    "# change the terms that have the value \"Designated preferred name\" (PT) for the \n",
    "# Term Type in Source (TTY) to the Metathesaurus preferred name (PN). All others\n",
    "# can be saved as synonym.\n",
    "df_dutch_umls_subset.tty.replace({'PT': 'PN',\n",
    "                                  'LLT': 'SY',\n",
    "                                  'MH': 'SY'}, inplace=True)\n",
    "\n",
    "# Remove \"NAO\" (\"Niet Anders Omschreven\"), which is relevant for the source terminlogy but not for entity linking.\n",
    "# See https://meddra.org/sites/default/files/guidance/file/intguide_15_0_dutch.pdf\n",
    "df_dutch_umls_subset.str = df_dutch_umls_subset.str.replace({' NAO': '', ' \\(NAO\\)': '', ' nao': ''}, regex=True)\n",
    "\n",
    "# Sort values\n",
    "df_dutch_umls_subset.sort_values(by=['cui', 'tty', 'str', 'sab'], inplace=True)\n",
    "\n",
    "# Drop duplicates, only keep the first entry (which is a PN because we sorted)\n",
    "print(f'Records before dropping duplicates: {df_dutch_umls_subset.shape[0]}')\n",
    "df_dutch_umls_subset = df_dutch_umls_subset.drop_duplicates(subset=['cui', 'str'], keep='first').reset_index(drop=True)\n",
    "print(f'Records after dropping duplicates: {df_dutch_umls_subset.shape[0]}')\n",
    "\n",
    "# Because dropped duplicates, only the first value in SAB is saved. Because we lost the information of other colums, rename the values to UMLS-dutch\n",
    "df_dutch_umls_subset['sab'] = 'UMLS-dutch'\n",
    "df_dutch_umls_subset.head(20)"
   ]
  },
  {
   "cell_type": "markdown",
   "id": "2a7392f9",
   "metadata": {},
   "source": [
    "# Add SNOMED"
   ]
  },
  {
   "cell_type": "markdown",
   "id": "b66bf5b1",
   "metadata": {},
   "source": [
    "### Load SNOMED US"
   ]
  },
  {
   "cell_type": "code",
   "execution_count": null,
   "id": "c64531f3",
   "metadata": {},
   "outputs": [],
   "source": [
    "query = \"SELECT distinct cui, scui FROM MRCONSO where sab = 'SNOMEDCT_US'\"\n",
    "df_snomed_us = pd.read_sql_query(query, con=connection)\n",
    "df_snomed_us.scui = df_snomed_us.scui.astype(str)\n",
    "print(f'SNOMED US terms with UMLS CUI: {df_snomed_us.shape[0]}')\n",
    "df_snomed_us.head()"
   ]
  },
  {
   "cell_type": "code",
   "execution_count": null,
   "id": "a5dd8ebd",
   "metadata": {},
   "outputs": [],
   "source": [
    "snomed_to_umls_mapping = df_snomed_us.groupby('scui')['cui'].apply(list).to_dict()\n",
    "print(f'Number of SNOMED IDs that map to at least 1 CUI: {len(snomed_to_umls_mapping)}')"
   ]
  },
  {
   "cell_type": "code",
   "execution_count": null,
   "id": "1419ccf3",
   "metadata": {},
   "outputs": [],
   "source": [
    "unambiguous_mapping_ids = set()\n",
    "for snomed_id in snomed_to_umls_mapping:\n",
    "    if len(snomed_to_umls_mapping[snomed_id]) == 1:\n",
    "        unambiguous_mapping_ids.add(snomed_id)\n",
    "print(len(unambiguous_mapping_ids))\n",
    "print(f'Number of SNOMED IDs that map to only 1 CUI: {len(unambiguous_mapping_ids)}')"
   ]
  },
  {
   "cell_type": "markdown",
   "id": "a67d1cec",
   "metadata": {},
   "source": [
    "## Load SNOMED NL"
   ]
  },
  {
   "cell_type": "code",
   "execution_count": null,
   "id": "1501c083",
   "metadata": {},
   "outputs": [],
   "source": [
    "df_snomed_dutch = pd.read_csv('04_ConceptDB/snomedct-dutch_v1.0.csv', dtype=str)\n",
    "df_snomed_dutch.head()"
   ]
  },
  {
   "cell_type": "code",
   "execution_count": null,
   "id": "5be24e02",
   "metadata": {},
   "outputs": [],
   "source": [
    "df_snomed_dutch.shape"
   ]
  },
  {
   "cell_type": "code",
   "execution_count": null,
   "id": "a936df17",
   "metadata": {},
   "outputs": [],
   "source": [
    "df_dutch_umls_subset.head()"
   ]
  },
  {
   "cell_type": "markdown",
   "id": "eeda5d4a",
   "metadata": {},
   "source": [
    "## Add SNOMED NL to UMLS"
   ]
  },
  {
   "cell_type": "code",
   "execution_count": null,
   "id": "65e171b2",
   "metadata": {},
   "outputs": [],
   "source": [
    "dutch_umls_ids=df_dutch_umls_subset.groupby('cui')['str'].apply(list).to_dict()\n",
    "\n",
    "dutch_umls_names_lowercase = set()\n",
    "for cui in dutch_umls_ids:\n",
    "    for value in dutch_umls_ids[cui]:\n",
    "        dutch_umls_names_lowercase.add(value.lower())"
   ]
  },
  {
   "cell_type": "code",
   "execution_count": null,
   "id": "889dedc9",
   "metadata": {},
   "outputs": [],
   "source": [
    "df_snomed_dutch['lowercase_str'] = df_snomed_dutch.str.str.lower()"
   ]
  },
  {
   "cell_type": "code",
   "execution_count": null,
   "id": "f69f1662",
   "metadata": {},
   "outputs": [],
   "source": [
    "def map_dutch_snomed_to_umls(row):\n",
    "    snomed_id = row['cui']\n",
    "    if snomed_id in unambiguous_mapping_ids:\n",
    "        cui = snomed_to_umls_mapping[snomed_id][0]\n",
    "        \n",
    "        # Check whether SNOMED name is a name in UMLS, under any CUI.\n",
    "        # This is to prevent:\n",
    "        # - Adding names for a concept that we already have.\n",
    "        # - Introducing concepts that are already in our DB but map to a different CUI\n",
    "        #   because of one-to-many SNOMED to UMLS mapping. \n",
    "        # The downside is that concepts that are not in our DB yet, will not be added. \n",
    "        if row['lowercase_str'] not in dutch_umls_names_lowercase:\n",
    "            \n",
    "            # Check if the term is new, or already exists and therefor always is a synonym.\n",
    "            if cui in dutch_umls_ids:\n",
    "                snomed_names_to_add.append([cui, row['str'], 'SY'])\n",
    "            else:\n",
    "                snomed_names_to_add.append([cui, row['str'], row['tty']])\n",
    "            \n",
    "snomed_names_to_add = list()\n",
    "\n",
    "# Apply function\n",
    "df_snomed_dutch.apply(map_dutch_snomed_to_umls, axis = 1)\n",
    "\n",
    "print(len(snomed_names_to_add))"
   ]
  },
  {
   "cell_type": "code",
   "execution_count": null,
   "id": "37d603ad",
   "metadata": {},
   "outputs": [],
   "source": [
    "snomed_names_with_cui = pd.DataFrame(snomed_names_to_add, columns = ['cui', 'str', 'tty'])\n",
    "snomed_names_with_cui['sab'] = 'SNOMEDCT-NL'\n",
    "snomed_names_with_cui.head()"
   ]
  },
  {
   "cell_type": "code",
   "execution_count": null,
   "id": "b24d0fc5",
   "metadata": {},
   "outputs": [],
   "source": [
    "df_dutch_umls_subset.shape"
   ]
  },
  {
   "cell_type": "code",
   "execution_count": null,
   "id": "e7f1f23c",
   "metadata": {},
   "outputs": [],
   "source": [
    "snomed_names_with_cui.shape"
   ]
  },
  {
   "cell_type": "code",
   "execution_count": null,
   "id": "a4e316a9",
   "metadata": {},
   "outputs": [],
   "source": [
    "umls_snomed_merged = pd.concat([df_dutch_umls_subset, snomed_names_with_cui])\n",
    "umls_snomed_merged.shape"
   ]
  },
  {
   "cell_type": "code",
   "execution_count": null,
   "id": "9e646747",
   "metadata": {},
   "outputs": [],
   "source": [
    "umls_snomed_merged.sort_values(by=['cui', 'tty', 'sab', 'str'], inplace=True)\n",
    "umls_snomed_merged.reset_index(drop=True,inplace=True)"
   ]
  },
  {
   "cell_type": "markdown",
   "id": "a613122c",
   "metadata": {},
   "source": [
    "## Remove problematic names\n"
   ]
  },
  {
   "cell_type": "code",
   "execution_count": null,
   "id": "7b8f7e41",
   "metadata": {},
   "outputs": [],
   "source": [
    "names_to_remove = ['Bij', # C0004923\n",
    "                   'Bijen', # C0004923\n",
    "                   'Haar', # C0018494\n",
    "                   'bleek', # C0678215\n",
    "                   'Weer', # C0043085\n",
    "                   'Na+'] # C0337443\n",
    "umls_snomed_merged[umls_snomed_merged.str.isin(names_to_remove)]"
   ]
  },
  {
   "cell_type": "code",
   "execution_count": null,
   "id": "23d9332f",
   "metadata": {},
   "outputs": [],
   "source": [
    "# Remove rows\n",
    "rows_to_remove = umls_snomed_merged[umls_snomed_merged.str.isin(names_to_remove)].index\n",
    "print(f'Number of rows before removing rows: {umls_snomed_merged.shape[0]}')\n",
    "umls_snomed_filtered = umls_snomed_merged.drop(umls_snomed_merged.index[rows_to_remove])\n",
    "print(f'Number of rows before removing rows: {umls_snomed_filtered.shape[0]}')"
   ]
  },
  {
   "cell_type": "markdown",
   "id": "49300f48",
   "metadata": {},
   "source": [
    "## Add custom CUIs\n",
    "Sometimes names or concept are not captured in any of the Dutch terminologies. By looking up the English name for these concepts, we can add custom Dutch names using the real UMLS identifier."
   ]
  },
  {
   "cell_type": "code",
   "execution_count": null,
   "id": "daf9030b",
   "metadata": {},
   "outputs": [],
   "source": [
    "umls_snomed_filtered.head()"
   ]
  },
  {
   "cell_type": "code",
   "execution_count": null,
   "id": "5ccdcb13",
   "metadata": {},
   "outputs": [],
   "source": [
    "custom_concepts = pd.read_csv(\"custom_concepts.csv\")\n",
    "custom_concepts"
   ]
  },
  {
   "cell_type": "code",
   "execution_count": null,
   "id": "f6a57586",
   "metadata": {},
   "outputs": [],
   "source": [
    "print(f'Number of rows before adding rows: {umls_snomed_filtered.shape[0]}')\n",
    "umls_snomed_custom = pd.concat([umls_snomed_filtered, custom_concepts])\n",
    "print(f'Number of rows after adding rows: {umls_snomed_custom.shape[0]}')"
   ]
  },
  {
   "cell_type": "markdown",
   "id": "384e312e",
   "metadata": {},
   "source": [
    "## Add TUI (types)\n",
    "UMLS concepts have one or multiple types. These types are kept in a separate table, `MRSTY`. See https://semanticnetwork.nlm.nih.gov/download/SemGroups.txt for all types."
   ]
  },
  {
   "cell_type": "code",
   "execution_count": null,
   "id": "0f92f5d7",
   "metadata": {},
   "outputs": [],
   "source": [
    "# Load TUI table from MySQL\n",
    "query = \"\"\"\n",
    "SELECT cui, tui, sty FROM MRSTY\n",
    "\"\"\"\n",
    "df_tui = pd.read_sql_query(query, con=connection)"
   ]
  },
  {
   "cell_type": "code",
   "execution_count": null,
   "id": "b2dae0da",
   "metadata": {},
   "outputs": [],
   "source": [
    "# Add TUI column to previously created dataframe\n",
    "umls_snomed_tui = umls_snomed_custom.merge(df_tui, how='left', on='cui')\n",
    "\n",
    "# View some concepts that have multiple TUIs\n",
    "umls_snomed_tui[umls_snomed_tui.duplicated(subset=['cui', 'str'], keep=False)].head(10)"
   ]
  },
  {
   "cell_type": "code",
   "execution_count": null,
   "id": "82307f58",
   "metadata": {},
   "outputs": [],
   "source": [
    "print(f'Number of unique TUIs in Dutch UMLS subset: {len(umls_snomed_tui.tui.unique())}')"
   ]
  },
  {
   "cell_type": "code",
   "execution_count": null,
   "id": "8c0cee77",
   "metadata": {},
   "outputs": [],
   "source": [
    "# Create dataframe with counts per TUI name\n",
    "type_counts = umls_snomed_tui.sty.value_counts().to_frame()\n",
    "type_counts_tui = umls_snomed_tui.sty.value_counts().to_frame()\n",
    "type_counts.reset_index(inplace=True)\n",
    "\n",
    "# Add TUI code\n",
    "type_counts_tui = umls_snomed_tui.tui.value_counts().to_frame()\n",
    "tuis = type_counts_tui.index\n",
    "type_counts['tui'] = tuis\n",
    "\n",
    "# Format nicely\n",
    "type_counts.columns = ['sty', 'count', 'tui']\n",
    "type_counts = type_counts[['tui', 'sty', 'count']]\n",
    "type_counts"
   ]
  },
  {
   "cell_type": "markdown",
   "id": "4a04578c",
   "metadata": {},
   "source": [
    "## TUI Filtering\n",
    "We could implement filtering of TUIs here. This depends on the domain and question of subsequent analysis. For SNOMED"
   ]
  },
  {
   "cell_type": "code",
   "execution_count": null,
   "id": "2d3edaf4",
   "metadata": {},
   "outputs": [],
   "source": [
    "tuis_to_remove = ['T078', # Idea or Concept\n",
    "                 ]\n",
    "umls_snomed_tui[umls_snomed_tui.tui.isin(tuis_to_remove)].head()"
   ]
  },
  {
   "cell_type": "code",
   "execution_count": null,
   "id": "f36dfa4e",
   "metadata": {},
   "outputs": [],
   "source": [
    "# Remove rows\n",
    "rows_to_remove = umls_snomed_tui[umls_snomed_tui.tui.isin(tuis_to_remove)].index\n",
    "print(f'Number of rows before removing rows: {umls_snomed_tui.shape[0]}')\n",
    "umls_snomed_tui_filtered = umls_snomed_tui.drop(umls_snomed_tui.index[rows_to_remove])\n",
    "print(f'Number of rows before removing rows: {umls_snomed_tui_filtered.shape[0]}')"
   ]
  },
  {
   "cell_type": "markdown",
   "id": "44729f69",
   "metadata": {},
   "source": [
    "## Column Names\n",
    "In MedCAT v1.0 the column name specification has changed and is defined as in the [README.md in examples](https://github.com/CogStack/MedCAT/tree/master/examples)."
   ]
  },
  {
   "cell_type": "code",
   "execution_count": null,
   "id": "6288adab",
   "metadata": {},
   "outputs": [],
   "source": [
    "umls_snomed_tui_filtered.rename(columns={'str': 'name', 'tty': 'name_status', 'sab': 'ontologies', 'tui': 'type_ids'}, inplace=True)\n",
    "umls_snomed_tui_filtered.drop(['sty'], axis = 1, inplace=True)\n",
    "umls_snomed_tui_filtered.head()"
   ]
  },
  {
   "cell_type": "code",
   "execution_count": null,
   "id": "67489fb1",
   "metadata": {},
   "outputs": [],
   "source": [
    "umls_snomed_tui_filtered.shape"
   ]
  },
  {
   "cell_type": "markdown",
   "id": "1616dea4",
   "metadata": {},
   "source": [
    "## Saving"
   ]
  },
  {
   "cell_type": "code",
   "execution_count": null,
   "id": "b7bed46c",
   "metadata": {},
   "outputs": [],
   "source": [
    "umls_snomed_tui_filtered.to_csv('04_ConceptDB/umls-dutch_v1.7.csv', index=False)\n",
    "type_counts.to_csv('04_ConceptDB/tuis-umls-dutch_v1.7.csv', index = False, sep='\\t')"
   ]
  }
 ],
 "metadata": {
  "kernelspec": {
   "display_name": "Python 3",
   "language": "python",
   "name": "python3"
  },
  "language_info": {
   "codemirror_mode": {
    "name": "ipython",
    "version": 3
   },
   "file_extension": ".py",
   "mimetype": "text/x-python",
   "name": "python",
   "nbconvert_exporter": "python",
   "pygments_lexer": "ipython3",
   "version": "3.8.5"
  }
 },
 "nbformat": 4,
 "nbformat_minor": 5
}
