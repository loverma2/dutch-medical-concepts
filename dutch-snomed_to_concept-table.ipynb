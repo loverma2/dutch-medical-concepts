{
 "cells": [
  {
   "cell_type": "code",
   "execution_count": null,
   "id": "compound-seller",
   "metadata": {},
   "outputs": [],
   "source": [
    "import pandas as pd\n",
    "import numpy as np\n",
    "import json\n",
    "import re\n",
    "import os"
   ]
  },
  {
   "cell_type": "markdown",
   "id": "needed-prospect",
   "metadata": {},
   "source": [
    "### Choosing file type\n",
    "\n",
    "| Edition | Total names | NL names | Description |\n",
    "| - | - | - | - |\n",
    "| Edition | 2263140 | 736619 | Include international SNOMED |\n",
    "| Extension | 770016 | 736619 | Some terms are only in English |\n",
    "| Patient Friendly | 1437 | 1437 | Small but potentially useful list of synonyms |\n",
    "\n",
    "The \"Edition\" contains also English names, so for our purpose we will focus on the \"Extention\" and \"Patient Friendly\" terms."
   ]
  },
  {
   "cell_type": "code",
   "execution_count": null,
   "id": "tight-cooking",
   "metadata": {},
   "outputs": [],
   "source": [
    "def parse_file(filename):\n",
    "    with open(filename, encoding='utf-8') as f:\n",
    "        entities = [[n.strip() for n in line.split('\\t')] for line in f]\n",
    "        return pd.DataFrame(entities[1:], columns=entities[0])"
   ]
  },
  {
   "cell_type": "code",
   "execution_count": null,
   "id": "vietnamese-dining",
   "metadata": {},
   "outputs": [],
   "source": [
    "snomed_dir = '/Users/stan3/Data/snomed'\n",
    "nl_ed_term = os.path.join(snomed_dir, 'SnomedCT_Netherlands_EditionRelease_PRODUCTION_20200930T120000Z/Snapshot/Terminology/sct2_Description_Snapshot_NL_20200930.txt')\n",
    "nl_ex_term = os.path.join(snomed_dir, 'SnomedCT_Netherlands_ExtensionRelease_PRODUCTION_20200930T120000Z/Snapshot/Terminology/sct2_Description_Snapshot_NL_20200930.txt')\n",
    "nl_pf_term = os.path.join(snomed_dir, 'SnomedCT_Netherlands_PatientFriendlyExtensionRelease_PRODUCTION_20200930T120000Z/Snapshot/Terminology/sct2_Description_Snapshot_NL-PatientFriendly_20200930.txt')"
   ]
  },
  {
   "cell_type": "markdown",
   "id": "dependent-variable",
   "metadata": {},
   "source": [
    "### Description type\n",
    "\n",
    "|Type id|Term|\n",
    "|-|-|\n",
    "|900000000000003001|Fully specified name|\n",
    "|900000000000013009|Synonym|\n",
    "|900000000000550004|Definition|\n",
    "\n",
    "We will use the FSN and Synonyms, as well as only dutch terms and terms that are active."
   ]
  },
  {
   "cell_type": "code",
   "execution_count": null,
   "id": "remarkable-trader",
   "metadata": {},
   "outputs": [],
   "source": [
    "df_ex = parse_file(nl_ex_term)\n",
    "df_ex = df_ex[(df_ex.languageCode == 'nl') & (df_ex.active == '1')]\n",
    "# Inactive: 34481\n",
    "# Active: 702138\n",
    "\n",
    "df_pf = parse_file(nl_pf_term)\n",
    "df_pf = df_pf[(df_pf.typeId == '900000000000013009') & (df_pf.active == '1')]\n",
    "# Inactive: 149\n",
    "# Active: 1284\n",
    "\n",
    "# Extract fully specified names\n",
    "df_fsn = df_ex[(df_ex.typeId == '900000000000003001')]\n",
    "df_fsn.shape\n",
    "# Inactive: 15211, 9\n",
    "# Active: 231646, 9\n",
    "\n",
    "df_ex_synonyms = df_ex[(df_ex.typeId == '900000000000013009')]\n",
    "\n",
    "# Extract names and synonyms\n",
    "df_synonyms = pd.concat([df_ex[(df_ex.typeId == '900000000000013009')],\n",
    "                         df_pf])"
   ]
  },
  {
   "cell_type": "markdown",
   "id": "written-remains",
   "metadata": {},
   "source": [
    "### Primary concepts"
   ]
  },
  {
   "cell_type": "code",
   "execution_count": null,
   "id": "diagnostic-interview",
   "metadata": {},
   "outputs": [],
   "source": [
    "df_primary_concepts = df_fsn.copy()\n",
    "df_primary_concepts['tui'] = df_primary_concepts['term'].str.extract(r\"\\(([^)]*)\\)[^(]*$\")\n",
    "df_primary_concepts['str'] = df_primary_concepts['term'].str.extract(r\"(^[^\\(]+)\")\n",
    "df_primary_concepts['str'] = df_primary_concepts['str'].str.strip()\n",
    "df_primary_concepts = df_primary_concepts[['conceptId', 'typeId', 'tui', 'str']]\n",
    "\n",
    "# Create CUI-TUI mapping\n",
    "cui_tui_mapping = dict(zip(df_primary_concepts.conceptId, df_primary_concepts.tui))\n",
    "df_primary_concepts.head()"
   ]
  },
  {
   "cell_type": "markdown",
   "id": "nearby-spiritual",
   "metadata": {},
   "source": [
    "### Synonyms"
   ]
  },
  {
   "cell_type": "code",
   "execution_count": null,
   "id": "joint-providence",
   "metadata": {},
   "outputs": [],
   "source": [
    "# Clean synonym table\n",
    "df_synonym_concepts = df_synonyms.copy()\n",
    "df_synonym_concepts = df_synonym_concepts[['conceptId', 'term', 'typeId']]\n",
    "df_synonym_concepts.rename({'term': 'str'}, inplace=True, axis=1)\n",
    "\n",
    "# Add TUI to synonyms\n",
    "df_synonym_concepts['tui'] = df_synonym_concepts.conceptId.map(cui_tui_mapping)\n",
    "# df_synonym_concepts[df_synonym_concepts['tui'].isna()].shape\n",
    "# 67 synonyms without type\n",
    "\n",
    "df_synonym_concepts"
   ]
  },
  {
   "cell_type": "markdown",
   "id": "quiet-advancement",
   "metadata": {},
   "source": [
    "### Combined"
   ]
  },
  {
   "cell_type": "code",
   "execution_count": null,
   "id": "accessory-bristol",
   "metadata": {},
   "outputs": [],
   "source": [
    "# Create combined \n",
    "df_all = pd.concat([df_primary_concepts, df_synonym_concepts]).reset_index(drop=True)\n",
    "df_all.rename({'typeId': 'tty', 'conceptId': 'cui'}, inplace=True, axis=1)\n",
    "df_all.tty.replace({'900000000000003001': 'PN',\n",
    "                             '900000000000013009': 'SY'}, inplace=True)\n",
    "df_all['sab'] = 'SNOMED-CT-NL'\n",
    "df_all = df_all[['cui', 'str', 'tty', 'tui', 'sab']]\n",
    "\n",
    "# Drop synonyms that are the same as primary name\n",
    "print(f'Records before dropping duplicates: {df_all.shape[0]}')\n",
    "df_all_unique = df_all.drop(df_all[(df_all.duplicated(subset=['cui', 'str', 'tui'], keep=False)) & (df_all.tty=='SY')].index)\n",
    "print(f'Records after dropping duplicates: {df_all_unique.shape[0]}')\n",
    "\n",
    "# Sort column on cui and tty\n",
    "df_all_unique['cui'] = df_all_unique['cui'].astype(int)\n",
    "df_all_unique.sort_values(['cui', 'tty'], inplace=True)\n",
    "\n",
    "df_all_unique.head()"
   ]
  },
  {
   "cell_type": "markdown",
   "id": "dimensional-judges",
   "metadata": {},
   "source": [
    "### Examples"
   ]
  },
  {
   "cell_type": "code",
   "execution_count": null,
   "id": "diverse-republic",
   "metadata": {},
   "outputs": [],
   "source": [
    "df_all_unique[df_all_unique.str == 'ALS']"
   ]
  },
  {
   "cell_type": "code",
   "execution_count": null,
   "id": "bored-celebrity",
   "metadata": {},
   "outputs": [],
   "source": [
    "df_all_unique[df_all_unique.cui == 86044005]"
   ]
  },
  {
   "cell_type": "code",
   "execution_count": null,
   "id": "imposed-nickname",
   "metadata": {},
   "outputs": [],
   "source": [
    "df_all_unique[df_all_unique.str == 'longkanker']"
   ]
  },
  {
   "cell_type": "code",
   "execution_count": null,
   "id": "developing-berkeley",
   "metadata": {},
   "outputs": [],
   "source": [
    "df_all_unique[df_all_unique.cui == 93880001]"
   ]
  },
  {
   "cell_type": "code",
   "execution_count": null,
   "id": "thermal-shoulder",
   "metadata": {},
   "outputs": [],
   "source": [
    "df_all_unique[df_all_unique.cui == 22298006]"
   ]
  },
  {
   "cell_type": "code",
   "execution_count": null,
   "id": "numeric-combining",
   "metadata": {},
   "outputs": [],
   "source": [
    "df_all_unique[df_all_unique.str == 'methotrexaat']"
   ]
  },
  {
   "cell_type": "code",
   "execution_count": null,
   "id": "widespread-juvenile",
   "metadata": {},
   "outputs": [],
   "source": [
    "df_all_unique[df_all_unique.cui == 387381009]"
   ]
  },
  {
   "cell_type": "markdown",
   "id": "constant-marble",
   "metadata": {},
   "source": [
    "## Evaluation of SNOMED types"
   ]
  },
  {
   "cell_type": "markdown",
   "id": "logical-history",
   "metadata": {},
   "source": [
    "Find which types are present, and then manually check the performance of the types by looking at a set of cardiology letters."
   ]
  },
  {
   "cell_type": "code",
   "execution_count": null,
   "id": "activated-metro",
   "metadata": {},
   "outputs": [],
   "source": [
    "df_all_unique.tui.value_counts()"
   ]
  },
  {
   "cell_type": "code",
   "execution_count": null,
   "id": "motivated-speaking",
   "metadata": {},
   "outputs": [],
   "source": [
    "# Total number of concepts\n",
    "df_all_unique.shape[0]"
   ]
  },
  {
   "cell_type": "code",
   "execution_count": null,
   "id": "persistent-caution",
   "metadata": {},
   "outputs": [],
   "source": [
    "# Number of primary concepts\n",
    "df_all_unique[df_all_unique.tty == 'PN'].shape"
   ]
  },
  {
   "cell_type": "code",
   "execution_count": null,
   "id": "detected-holiday",
   "metadata": {},
   "outputs": [],
   "source": [
    "# Number of synonyms\n",
    "df_all_unique[df_all_unique.tty == 'SY'].shape"
   ]
  },
  {
   "cell_type": "markdown",
   "id": "crazy-belfast",
   "metadata": {},
   "source": [
    "| tui | summary | good examples | bad examples |\n",
    "| :- | :- | :- | :-|\n",
    "|aandoening |good|hypertensie, boezemfibrilleren, av-blok| |\n",
    "|monster|good|trombocyten, leukocyten,basofiele granulocyten||\n",
    "|regime/therapie|good|fysiotherapie, hartrevalidatie, therapie||\n",
    "|waarneembare entities|good|leeftijd, bloeddruk, hartas, LVEF||\n",
    "|bevinding|good|koorts, zwelling, tachycardie||\n",
    "|attribuut|good|bij, na||\n",
    "|kwalificatiewaarde|good|ontslag, beloop, gestaakt, geen||\n",
    "|cel|good, but rare|erythrocytes||\n",
    "|gegevensobject|good, but rare| Echocardiogram, operatieverslag||\n",
    "|sociaal concept|good, but rare|familie||\n",
    "|situatie|good, but includes negation|geen pijn, geen dispneu, geen hoesten||\n",
    "|verrichting |decent|lokale anesthesie, lichamelijk onderzoek, palpatie|erg (elektroretinografie), weken, post (peritoneale transfer van eicel en sperma), beleid (management)|\n",
    "|substantie|decent|nebivolol, amlodipine, ceftriaxon|wortel, PM (fijnstof)|\n",
    "|omgeving|decent|ziekenhuis, polikliniek, huis, afdeling cardiologie, afdeling fysiologie|meer, stroop, plaats|\n",
    "|lichaamsstructuur|decent|pols, aortaklep, AV-knoop|mid (mesioincisodistale vlakken van gebitselement)|\n",
    "|persoon|decent|patient, dochter, vader|bekende (kennis)|\n",
    "|fysische kracht|decent, but rare|druk||\n",
    "|fysiek object|discutable, but rare|pacemaker|verband|\n",
    "|afwijkende morfologie|bad|||\n",
    "|beroep|bad||rechter, belang (behanger), herkende (werkende)|\n",
    "|metadata|bad||beeld|\n",
    "|gebeurtenis|bad, only 1 term matched||het (hoog energetisch trauma)|\n",
    "\n",
    "Terms that were never found: omgeving/locatie, organisme, physical object: fout, religie/filosofie, product, disorder, navigatieconcept, lifestyle, procedure, gradering, tumorgradering, beoordelingsschaal, inactief concept, speciaal concept, ras, foundation metadata concept, physical object, eigenschap, celstructuur"
   ]
  },
  {
   "cell_type": "code",
   "execution_count": null,
   "id": "backed-syntax",
   "metadata": {},
   "outputs": [],
   "source": [
    "# Define list of relevant terms for general use\n",
    "relevant_tuis = ['aandoening',\n",
    "                'monster',\n",
    "                'regime/therapie',\n",
    "                'bevinding',\n",
    "                'cel',\n",
    "                'gegevensobject',\n",
    "                'verrichting',\n",
    "                'substantie',\n",
    "                'lichaamsstructuur']"
   ]
  },
  {
   "cell_type": "code",
   "execution_count": null,
   "id": "secure-genius",
   "metadata": {},
   "outputs": [],
   "source": [
    "df_all_unique[df_all_unique.tui.isin(relevant_tuis)].tui.value_counts()"
   ]
  },
  {
   "cell_type": "code",
   "execution_count": null,
   "id": "adapted-norfolk",
   "metadata": {},
   "outputs": [],
   "source": [
    "df_all_unique[df_all_unique.tui.isin(relevant_tuis)].shape[0]"
   ]
  },
  {
   "cell_type": "markdown",
   "id": "fabulous-latin",
   "metadata": {},
   "source": [
    "## Output"
   ]
  },
  {
   "cell_type": "code",
   "execution_count": null,
   "id": "median-discount",
   "metadata": {},
   "outputs": [],
   "source": [
    "# Save to file\n",
    "df_all_unique.to_csv('04_ConceptDB/snomedct-dutch_v1.0-complete.csv', index=False)\n",
    "df_all_unique[df_all_unique.tui.isin(relevant_tuis)].to_csv('04_ConceptDB/snomedct-dutch_v1.0.csv', index=False)"
   ]
  }
 ],
 "metadata": {
  "kernelspec": {
   "display_name": "Python 3",
   "language": "python",
   "name": "python3"
  },
  "language_info": {
   "codemirror_mode": {
    "name": "ipython",
    "version": 3
   },
   "file_extension": ".py",
   "mimetype": "text/x-python",
   "name": "python",
   "nbconvert_exporter": "python",
   "pygments_lexer": "ipython3",
   "version": "3.8.5"
  }
 },
 "nbformat": 4,
 "nbformat_minor": 5
}
